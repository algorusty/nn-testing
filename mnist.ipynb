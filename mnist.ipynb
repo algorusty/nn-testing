{
 "cells": [
  {
   "cell_type": "code",
   "execution_count": 87,
   "source": [
    "import numpy as np\r\n",
    "import matplotlib.pyplot as plt\r\n",
    "import tensorflow as tf\r\n",
    "import pandas as pd\r\n",
    "from shutil import rmtree\r\n",
    "from os.path import isdir\r\n",
    "from tensorflow.keras.layers.experimental import preprocessing\r\n",
    "from tensorflow.keras.models import Sequential, Model\r\n",
    "from tensorflow.keras.layers import Dense, Dropout, Flatten, Conv2D, MaxPooling2D, BatchNormalization, LeakyReLU\r\n",
    "from sklearn.model_selection import train_test_split"
   ],
   "outputs": [],
   "metadata": {}
  },
  {
   "cell_type": "code",
   "execution_count": 88,
   "source": [
    "tf.config.list_physical_devices()"
   ],
   "outputs": [
    {
     "output_type": "execute_result",
     "data": {
      "text/plain": [
       "[PhysicalDevice(name='/physical_device:CPU:0', device_type='CPU'),\n",
       " PhysicalDevice(name='/physical_device:GPU:0', device_type='GPU')]"
      ]
     },
     "metadata": {},
     "execution_count": 88
    }
   ],
   "metadata": {}
  },
  {
   "cell_type": "code",
   "execution_count": 89,
   "source": [
    "(x_train_raw, y_train_raw), (x_test_raw, y_test_raw) = tf.keras.datasets.mnist.load_data()"
   ],
   "outputs": [],
   "metadata": {}
  },
  {
   "cell_type": "code",
   "execution_count": 90,
   "source": [
    "# plt.figure(figsize=[10,2])\r\n",
    "f, ax = plt.subplots(1, 10, figsize=[25,5])\r\n",
    "# plt.imshow()\r\n",
    "for i in range(0, 10):\r\n",
    "\timage = np.reshape(x_train_raw[i], (28,28))\r\n",
    "\tlabel = y_train_raw[i]\r\n",
    "\tax[i].imshow(image, cmap='Greys_r')\r\n",
    "\tax[i].set_title(label)\r\n",
    "\t# plt.figimage(image)\r\n",
    "# plt.show()\r\n"
   ],
   "outputs": [
    {
     "output_type": "display_data",
     "data": {
      "text/plain": [
       "<Figure size 1800x360 with 10 Axes>"
      ],
      "image/png": "[encoded data removed]"
     },
     "metadata": {}
    }
   ],
   "metadata": {}
  },
  {
   "cell_type": "code",
   "execution_count": 91,
   "source": [
    "pd.DataFrame(y_train_raw).describe()"
   ],
   "outputs": [
    {
     "output_type": "execute_result",
     "data": {
      "text/plain": [
       "                  0\n",
       "count  60000.000000\n",
       "mean       4.453933\n",
       "std        2.889270\n",
       "min        0.000000\n",
       "25%        2.000000\n",
       "50%        4.000000\n",
       "75%        7.000000\n",
       "max        9.000000"
      ],
      "text/html": [
       "<div>\n",
       "<style scoped>\n",
       "    .dataframe tbody tr th:only-of-type {\n",
       "        vertical-align: middle;\n",
       "    }\n",
       "\n",
       "    .dataframe tbody tr th {\n",
       "        vertical-align: top;\n",
       "    }\n",
       "\n",
       "    .dataframe thead th {\n",
       "        text-align: right;\n",
       "    }\n",
       "</style>\n",
       "<table border=\"1\" class=\"dataframe\">\n",
       "  <thead>\n",
       "    <tr style=\"text-align: right;\">\n",
       "      <th></th>\n",
       "      <th>0</th>\n",
       "    </tr>\n",
       "  </thead>\n",
       "  <tbody>\n",
       "    <tr>\n",
       "      <th>count</th>\n",
       "      <td>60000.000000</td>\n",
       "    </tr>\n",
       "    <tr>\n",
       "      <th>mean</th>\n",
       "      <td>4.453933</td>\n",
       "    </tr>\n",
       "    <tr>\n",
       "      <th>std</th>\n",
       "      <td>2.889270</td>\n",
       "    </tr>\n",
       "    <tr>\n",
       "      <th>min</th>\n",
       "      <td>0.000000</td>\n",
       "    </tr>\n",
       "    <tr>\n",
       "      <th>25%</th>\n",
       "      <td>2.000000</td>\n",
       "    </tr>\n",
       "    <tr>\n",
       "      <th>50%</th>\n",
       "      <td>4.000000</td>\n",
       "    </tr>\n",
       "    <tr>\n",
       "      <th>75%</th>\n",
       "      <td>7.000000</td>\n",
       "    </tr>\n",
       "    <tr>\n",
       "      <th>max</th>\n",
       "      <td>9.000000</td>\n",
       "    </tr>\n",
       "  </tbody>\n",
       "</table>\n",
       "</div>"
      ]
     },
     "metadata": {},
     "execution_count": 91
    }
   ],
   "metadata": {}
  },
  {
   "cell_type": "code",
   "execution_count": 92,
   "source": [
    "x_train = np.reshape(x_train_raw, (-1, 28, 28, 1))\r\n",
    "y_train = tf.one_hot(y_train_raw, 10).numpy()\r\n",
    "x_test = np.reshape(x_test_raw, (-1, 28, 28, 1))\r\n",
    "y_test = tf.one_hot(y_test_raw, 10).numpy()"
   ],
   "outputs": [],
   "metadata": {}
  },
  {
   "cell_type": "code",
   "execution_count": 93,
   "source": [
    "x_train, x_valid, y_train, y_valid = train_test_split(x_train, y_train, test_size=0.1, random_state=1)"
   ],
   "outputs": [],
   "metadata": {}
  },
  {
   "cell_type": "code",
   "execution_count": 94,
   "source": [
    "epochs = 20\r\n",
    "learning_rate = 0.001\r\n",
    "batch_size = 512\r\n",
    "n_input = 28\r\n",
    "n_classes = 10"
   ],
   "outputs": [],
   "metadata": {}
  },
  {
   "cell_type": "code",
   "execution_count": 95,
   "source": [
    "model = None\r\n",
    "model = Sequential()\r\n",
    "\r\n",
    "model.add(preprocessing.Resizing(28, 28))\r\n",
    "model.add(preprocessing.Rescaling(1./255))\r\n",
    "\r\n",
    "# model.add(preprocessing.RandomFlip())\r\n",
    "model.add(preprocessing.RandomRotation(0.10))\r\n",
    "model.add(preprocessing.RandomContrast(0.05))\r\n",
    "model.add(preprocessing.RandomZoom(0.05, 0.05))\r\n",
    "\r\n",
    "model.add(Conv2D(64, 7, activation=LeakyReLU(), input_shape=(28, 28, 1), padding='same'))\r\n",
    "model.add(BatchNormalization())\r\n",
    "model.add(MaxPooling2D((2,2), padding='same'))\r\n",
    "model.add(Conv2D(64, 5, activation=LeakyReLU(), padding='same'))\r\n",
    "model.add(BatchNormalization())\r\n",
    "model.add(MaxPooling2D((2,2), padding='same'))\r\n",
    "model.add(Dropout(0.05))\r\n",
    "\r\n",
    "model.add(Conv2D(64, 3, activation=LeakyReLU(), padding='same'))\r\n",
    "model.add(BatchNormalization())\r\n",
    "# model.add(MaxPooling2D((2, 2), padding='same'))\r\n",
    "model.add(Conv2D(64, 3, activation=LeakyReLU(), padding='same'))\r\n",
    "model.add(BatchNormalization())\r\n",
    "model.add(MaxPooling2D((2, 2), padding='same'))\r\n",
    "model.add(Dropout(0.05))\r\n",
    "\r\n",
    "model.add(Flatten())\r\n",
    "# model.add(Dense(256, LeakyReLU()))\r\n",
    "# model.add(BatchNormalization())\r\n",
    "model.add(Dense(128, LeakyReLU()))\r\n",
    "model.add(BatchNormalization())\r\n",
    "model.add(Dense(84, LeakyReLU()))\r\n",
    "model.add(BatchNormalization())\r\n",
    "model.add(Dropout(0.20))\r\n",
    "\r\n",
    "model.add(Dense(n_classes, 'softmax'))\r\n",
    "\r\n",
    "model.compile(tf.keras.optimizers.Adam(), tf.keras.losses.CategoricalCrossentropy(), 'accuracy')\r\n",
    "model.build(input_shape=(1, 28, 28, 1))\r\n",
    "model.summary()"
   ],
   "outputs": [
    {
     "output_type": "stream",
     "name": "stdout",
     "text": [
      "Model: \"sequential_7\"\n",
      "_________________________________________________________________\n",
      "Layer (type)                 Output Shape              Param #   \n",
      "=================================================================\n",
      "resizing_7 (Resizing)        (1, 28, 28, 1)            0         \n",
      "_________________________________________________________________\n",
      "rescaling_7 (Rescaling)      (1, 28, 28, 1)            0         \n",
      "_________________________________________________________________\n",
      "random_rotation_7 (RandomRot (1, 28, 28, 1)            0         \n",
      "_________________________________________________________________\n",
      "random_contrast_7 (RandomCon (1, 28, 28, 1)            0         \n",
      "_________________________________________________________________\n",
      "random_zoom_7 (RandomZoom)   (1, 28, 28, 1)            0         \n",
      "_________________________________________________________________\n",
      "conv2d_28 (Conv2D)           (1, 28, 28, 64)           3200      \n",
      "_________________________________________________________________\n",
      "batch_normalization_42 (Batc (1, 28, 28, 64)           256       \n",
      "_________________________________________________________________\n",
      "max_pooling2d_21 (MaxPooling (1, 14, 14, 64)           0         \n",
      "_________________________________________________________________\n",
      "conv2d_29 (Conv2D)           (1, 14, 14, 64)           102464    \n",
      "_________________________________________________________________\n",
      "batch_normalization_43 (Batc (1, 14, 14, 64)           256       \n",
      "_________________________________________________________________\n",
      "max_pooling2d_22 (MaxPooling (1, 7, 7, 64)             0         \n",
      "_________________________________________________________________\n",
      "dropout_21 (Dropout)         (1, 7, 7, 64)             0         \n",
      "_________________________________________________________________\n",
      "conv2d_30 (Conv2D)           (1, 7, 7, 64)             36928     \n",
      "_________________________________________________________________\n",
      "batch_normalization_44 (Batc (1, 7, 7, 64)             256       \n",
      "_________________________________________________________________\n",
      "conv2d_31 (Conv2D)           (1, 7, 7, 64)             36928     \n",
      "_________________________________________________________________\n",
      "batch_normalization_45 (Batc (1, 7, 7, 64)             256       \n",
      "_________________________________________________________________\n",
      "max_pooling2d_23 (MaxPooling (1, 4, 4, 64)             0         \n",
      "_________________________________________________________________\n",
      "dropout_22 (Dropout)         (1, 4, 4, 64)             0         \n",
      "_________________________________________________________________\n",
      "flatten_7 (Flatten)          (1, 1024)                 0         \n",
      "_________________________________________________________________\n",
      "dense_21 (Dense)             (1, 128)                  131200    \n",
      "_________________________________________________________________\n",
      "batch_normalization_46 (Batc (1, 128)                  512       \n",
      "_________________________________________________________________\n",
      "dense_22 (Dense)             (1, 84)                   10836     \n",
      "_________________________________________________________________\n",
      "batch_normalization_47 (Batc (1, 84)                   336       \n",
      "_________________________________________________________________\n",
      "dropout_23 (Dropout)         (1, 84)                   0         \n",
      "_________________________________________________________________\n",
      "dense_23 (Dense)             (1, 10)                   850       \n",
      "=================================================================\n",
      "Total params: 324,278\n",
      "Trainable params: 323,342\n",
      "Non-trainable params: 936\n",
      "_________________________________________________________________\n"
     ]
    }
   ],
   "metadata": {}
  },
  {
   "cell_type": "code",
   "execution_count": 96,
   "source": [
    "learning_rate = tf.keras.callbacks.ReduceLROnPlateau(monitor='loss', min_delta=0.002, factor=0.01, patience=2) #0.001\r\n",
    "early_stop = tf.keras.callbacks.EarlyStopping(\r\n",
    "    monitor='loss', min_delta=0.002, patience=3, verbose=1,\r\n",
    "    mode='auto', baseline=None, restore_best_weights=False\r\n",
    ")"
   ],
   "outputs": [],
   "metadata": {}
  },
  {
   "cell_type": "code",
   "execution_count": 97,
   "source": [
    "if isdir('./logs'):\r\n",
    "    rmtree('./logs')\r\n",
    "else:\r\n",
    "    print('LOGS DOES NOT EXIST')\r\n",
    "tbcb = tf.keras.callbacks.TensorBoard()"
   ],
   "outputs": [],
   "metadata": {}
  },
  {
   "cell_type": "code",
   "execution_count": 98,
   "source": [
    "%load_ext tensorboard"
   ],
   "outputs": [
    {
     "output_type": "stream",
     "name": "stdout",
     "text": [
      "The tensorboard extension is already loaded. To reload it, use:\n",
      "  %reload_ext tensorboard\n"
     ]
    }
   ],
   "metadata": {}
  },
  {
   "cell_type": "code",
   "execution_count": 99,
   "source": [
    "model_train = model.fit(x_train, y_train, 256, 30, 1, validation_data=(x_valid, y_valid), callbacks=[learning_rate, early_stop, tbcb]).history"
   ],
   "outputs": [
    {
     "output_type": "stream",
     "name": "stdout",
     "text": [
      "Epoch 1/30\n",
      "211/211 [==============================] - 25s 106ms/step - loss: 0.2249 - accuracy: 0.9319 - val_loss: 2.5700 - val_accuracy: 0.2965\n",
      "Epoch 2/30\n",
      "211/211 [==============================] - 21s 100ms/step - loss: 0.0827 - accuracy: 0.9746 - val_loss: 0.5159 - val_accuracy: 0.8112\n",
      "Epoch 3/30\n",
      "211/211 [==============================] - 22s 104ms/step - loss: 0.0670 - accuracy: 0.9792 - val_loss: 0.0612 - val_accuracy: 0.9807\n",
      "Epoch 4/30\n",
      "211/211 [==============================] - 22s 103ms/step - loss: 0.0568 - accuracy: 0.9824 - val_loss: 0.0458 - val_accuracy: 0.9857\n",
      "Epoch 5/30\n",
      "211/211 [==============================] - 22s 105ms/step - loss: 0.0491 - accuracy: 0.9847 - val_loss: 0.0445 - val_accuracy: 0.9870\n",
      "Epoch 6/30\n",
      "211/211 [==============================] - 22s 104ms/step - loss: 0.0474 - accuracy: 0.9848 - val_loss: 0.0565 - val_accuracy: 0.9825\n",
      "Epoch 7/30\n",
      "211/211 [==============================] - 22s 104ms/step - loss: 0.0422 - accuracy: 0.9865 - val_loss: 0.0516 - val_accuracy: 0.9858\n",
      "Epoch 8/30\n",
      "211/211 [==============================] - 22s 105ms/step - loss: 0.0390 - accuracy: 0.9873 - val_loss: 0.0505 - val_accuracy: 0.9853\n",
      "Epoch 9/30\n",
      "211/211 [==============================] - 22s 105ms/step - loss: 0.0376 - accuracy: 0.9880 - val_loss: 0.0429 - val_accuracy: 0.9882\n",
      "Epoch 10/30\n",
      "211/211 [==============================] - 22s 103ms/step - loss: 0.0367 - accuracy: 0.9884 - val_loss: 0.0432 - val_accuracy: 0.9883\n",
      "Epoch 11/30\n",
      "211/211 [==============================] - 23s 107ms/step - loss: 0.0344 - accuracy: 0.9892 - val_loss: 0.0448 - val_accuracy: 0.9868\n",
      "Epoch 12/30\n",
      "211/211 [==============================] - 23s 108ms/step - loss: 0.0322 - accuracy: 0.9893 - val_loss: 0.0381 - val_accuracy: 0.9885\n",
      "Epoch 13/30\n",
      "211/211 [==============================] - 23s 108ms/step - loss: 0.0335 - accuracy: 0.9891 - val_loss: 0.0378 - val_accuracy: 0.9887\n",
      "Epoch 14/30\n",
      "211/211 [==============================] - 22s 106ms/step - loss: 0.0308 - accuracy: 0.9905 - val_loss: 0.0449 - val_accuracy: 0.9872\n",
      "Epoch 15/30\n",
      "211/211 [==============================] - 23s 108ms/step - loss: 0.0253 - accuracy: 0.9919 - val_loss: 0.0316 - val_accuracy: 0.9907\n",
      "Epoch 16/30\n",
      "211/211 [==============================] - 23s 108ms/step - loss: 0.0249 - accuracy: 0.9920 - val_loss: 0.0294 - val_accuracy: 0.9910\n",
      "Epoch 17/30\n",
      "211/211 [==============================] - 22s 104ms/step - loss: 0.0208 - accuracy: 0.9936 - val_loss: 0.0283 - val_accuracy: 0.9917\n",
      "Epoch 18/30\n",
      "211/211 [==============================] - 22s 103ms/step - loss: 0.0207 - accuracy: 0.9933 - val_loss: 0.0275 - val_accuracy: 0.9920\n",
      "Epoch 19/30\n",
      "211/211 [==============================] - 22s 103ms/step - loss: 0.0205 - accuracy: 0.9939 - val_loss: 0.0271 - val_accuracy: 0.9920\n",
      "Epoch 20/30\n",
      "211/211 [==============================] - 22s 103ms/step - loss: 0.0197 - accuracy: 0.9936 - val_loss: 0.0271 - val_accuracy: 0.9920\n",
      "Epoch 00020: early stopping\n"
     ]
    }
   ],
   "metadata": {}
  },
  {
   "cell_type": "code",
   "execution_count": 103,
   "source": [
    "model.evaluate(x_test, y_test)"
   ],
   "outputs": [
    {
     "output_type": "stream",
     "name": "stdout",
     "text": [
      "313/313 [==============================] - 3s 9ms/step - loss: 0.0196 - accuracy: 0.9942\n"
     ]
    },
    {
     "output_type": "execute_result",
     "data": {
      "text/plain": [
       "[0.01961764693260193, 0.9941999912261963]"
      ]
     },
     "metadata": {},
     "execution_count": 103
    }
   ],
   "metadata": {}
  },
  {
   "cell_type": "code",
   "execution_count": 101,
   "source": [
    "def plot_conv_weights(model, layer):\r\n",
    "    W = model.get_layer(name=layer).get_weights()[0]\r\n",
    "    if len(W.shape) == 4:\r\n",
    "        W = np.squeeze(W)\r\n",
    "        print(W.shape)\r\n",
    "        if len(W.shape) == 4:\r\n",
    "            W = W.reshape(W.shape[0], W.shape[1], W.shape[2] * W.shape[3]) \r\n",
    "        else:\r\n",
    "            W = W.reshape(W.shape[0], W.shape[1], W.shape[2]) \r\n",
    "        fig, axs = plt.subplots(1,15, figsize=(30,30))\r\n",
    "        # fig.subplots_adjust(hspace = .5, wspace=.001)\r\n",
    "        axs = axs.ravel()\r\n",
    "        for i in range(15):\r\n",
    "            axs[i].imshow(W[:,:,i], cmap='Greys_r')\r\n",
    "            axs[i].set_title(str(i))\r\n",
    "\r\n",
    "for layer in model.layers:\r\n",
    "    if 'conv' not in layer.name:\r\n",
    "        continue\r\n",
    "    else:\r\n",
    "        plot_conv_weights(model, layer.name)"
   ],
   "outputs": [
    {
     "output_type": "stream",
     "name": "stdout",
     "text": [
      "(7, 7, 64)\n",
      "(5, 5, 64, 64)\n",
      "(3, 3, 64, 64)\n",
      "(3, 3, 64, 64)\n"
     ]
    },
    {
     "output_type": "display_data",
     "data": {
      "text/plain": [
       "<Figure size 2160x2160 with 15 Axes>"
      ],
      "image/png": "[encoded data removed]"
     },
     "metadata": {}
    },
    {
     "output_type": "display_data",
     "data": {
      "text/plain": [
       "<Figure size 2160x2160 with 15 Axes>"
      ],
      "image/png": "[encoded data removed]"
     },
     "metadata": {}
    },
    {
     "output_type": "display_data",
     "data": {
      "text/plain": [
       "<Figure size 2160x2160 with 15 Axes>"
      ],
      "image/png": "[encoded data removed]"
     },
     "metadata": {}
    },
    {
     "output_type": "display_data",
     "data": {
      "text/plain": [
       "<Figure size 2160x2160 with 15 Axes>"
      ],
      "image/png": "[encoded data removed]"
     },
     "metadata": {}
    }
   ],
   "metadata": {}
  },
  {
   "cell_type": "code",
   "execution_count": 102,
   "source": [
    "acc = model_train['accuracy']\r\n",
    "val_acc = model_train['val_accuracy']\r\n",
    "loss = model_train['loss']\r\n",
    "val_loss = model_train['val_loss']\r\n",
    "epoch_count = range(len(acc))\r\n",
    "\r\n",
    "plt.plot(epoch_count, acc, 'b', label='Train acc')\r\n",
    "plt.plot(epoch_count, val_acc, 'g', label='Val acc')\r\n",
    "plt.title('ACCURACY')\r\n",
    "plt.legend()\r\n",
    "plt.figure()\r\n",
    "\r\n",
    "plt.plot(epoch_count, loss, 'b', label='Train loss')\r\n",
    "plt.plot(epoch_count, val_loss, 'g', label='Val loss')\r\n",
    "plt.title('LOSS')\r\n",
    "plt.legend()\r\n",
    "plt.figure()\r\n",
    "\r\n",
    "plt.show()"
   ],
   "outputs": [
    {
     "output_type": "display_data",
     "data": {
      "text/plain": [
       "<Figure size 432x288 with 1 Axes>"
      ],
      "image/png": "[encoded data removed]"
     },
     "metadata": {}
    },
    {
     "output_type": "display_data",
     "data": {
      "text/plain": [
       "<Figure size 432x288 with 1 Axes>"
      ],
      "image/png": "[encoded data removed]"
     },
     "metadata": {}
    },
    {
     "output_type": "display_data",
     "data": {
      "text/plain": [
       "<Figure size 432x288 with 0 Axes>"
      ]
     },
     "metadata": {}
    }
   ],
   "metadata": {}
  }
 ],
 "metadata": {
  "orig_nbformat": 4,
  "language_info": {
   "name": "python",
   "version": "3.8.3",
   "mimetype": "text/x-python",
   "codemirror_mode": {
    "name": "ipython",
    "version": 3
   },
   "pygments_lexer": "ipython3",
   "nbconvert_exporter": "python",
   "file_extension": ".py"
  },
  "kernelspec": {
   "name": "python3",
   "display_name": "Python 3.8.3 64-bit"
  },
  "interpreter": {
   "hash": "1baa965d5efe3ac65b79dfc60c0d706280b1da80fedb7760faf2759126c4f253"
  }
 },
 "nbformat": 4,
 "nbformat_minor": 2
}