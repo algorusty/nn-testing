{
  "nbformat": 4,
  "nbformat_minor": 2,
  "metadata": {
    "orig_nbformat": 4,
    "language_info": {
      "name": "python",
      "version": "3.8.3",
      "mimetype": "text/x-python",
      "codemirror_mode": {
        "name": "ipython",
        "version": 3
      },
      "pygments_lexer": "ipython3",
      "nbconvert_exporter": "python",
      "file_extension": ".py"
    },
    "kernelspec": {
      "name": "python3",
      "display_name": "Python 3.8.3 64-bit"
    },
    "interpreter": {
      "hash": "1baa965d5efe3ac65b79dfc60c0d706280b1da80fedb7760faf2759126c4f253"
    },
    "colab": {
      "name": "fmnist.ipynb",
      "provenance": []
    }
  },
  "cells": [
    {
      "cell_type": "code",
      "execution_count": 1,
      "source": [
        "import numpy as np\n",
        "import matplotlib.pyplot as plt\n",
        "import tensorflow as tf\n",
        "import pandas as pd\n",
        "from shutil import rmtree\n",
        "from os.path import isdir\n",
        "from tensorflow.keras.layers.experimental import preprocessing\n",
        "from tensorflow.keras.models import Sequential, Model\n",
        "from tensorflow.keras.layers import Dense, Dropout, Flatten, Conv2D, MaxPooling2D, BatchNormalization, LeakyReLU\n",
        "from sklearn.model_selection import train_test_split"
      ],
      "outputs": [],
      "metadata": {
        "id": "ZO0PYqmypR0r"
      }
    },
    {
      "cell_type": "code",
      "execution_count": 2,
      "source": [
        "%load_ext tensorboard"
      ],
      "outputs": [],
      "metadata": {
        "id": "mlaViZd1pR0s"
      }
    },
    {
      "cell_type": "code",
      "execution_count": 3,
      "source": [
        "(x_train_raw, y_train_raw), (x_test_raw, y_test_raw) = tf.keras.datasets.fashion_mnist.load_data()"
      ],
      "outputs": [],
      "metadata": {
        "id": "NPJZVeFPpR0t"
      }
    },
    {
      "cell_type": "code",
      "execution_count": 4,
      "source": [
        "# plt.figure(figsize=[10,2])\n",
        "# f, ax = plt.subplots(1, 10, figsize=[20,5])\n",
        "# plt.imshow()\n",
        "# for i in range(0, 10):\n",
        "# \timage = np.reshape(x_train_raw[i], (28,28))\n",
        "# \tlabel = y_train_raw[i]\n",
        "# \tax[i].imshow(image)\n",
        "# \tax[i].set_title(label)\n",
        "\t# plt.figimage(image)\n",
        "# plt.show()\n"
      ],
      "outputs": [],
      "metadata": {
        "id": "w7k1Mqt6pR0t"
      }
    },
    {
      "cell_type": "code",
      "execution_count": 5,
      "source": [
        "pd.DataFrame(y_train_raw).describe()"
      ],
      "outputs": [
        {
          "output_type": "execute_result",
          "data": {
            "text/plain": [
              "                  0\n",
              "count  60000.000000\n",
              "mean       4.500000\n",
              "std        2.872305\n",
              "min        0.000000\n",
              "25%        2.000000\n",
              "50%        4.500000\n",
              "75%        7.000000\n",
              "max        9.000000"
            ],
            "text/html": [
              "<div>\n",
              "<style scoped>\n",
              "    .dataframe tbody tr th:only-of-type {\n",
              "        vertical-align: middle;\n",
              "    }\n",
              "\n",
              "    .dataframe tbody tr th {\n",
              "        vertical-align: top;\n",
              "    }\n",
              "\n",
              "    .dataframe thead th {\n",
              "        text-align: right;\n",
              "    }\n",
              "</style>\n",
              "<table border=\"1\" class=\"dataframe\">\n",
              "  <thead>\n",
              "    <tr style=\"text-align: right;\">\n",
              "      <th></th>\n",
              "      <th>0</th>\n",
              "    </tr>\n",
              "  </thead>\n",
              "  <tbody>\n",
              "    <tr>\n",
              "      <th>count</th>\n",
              "      <td>60000.000000</td>\n",
              "    </tr>\n",
              "    <tr>\n",
              "      <th>mean</th>\n",
              "      <td>4.500000</td>\n",
              "    </tr>\n",
              "    <tr>\n",
              "      <th>std</th>\n",
              "      <td>2.872305</td>\n",
              "    </tr>\n",
              "    <tr>\n",
              "      <th>min</th>\n",
              "      <td>0.000000</td>\n",
              "    </tr>\n",
              "    <tr>\n",
              "      <th>25%</th>\n",
              "      <td>2.000000</td>\n",
              "    </tr>\n",
              "    <tr>\n",
              "      <th>50%</th>\n",
              "      <td>4.500000</td>\n",
              "    </tr>\n",
              "    <tr>\n",
              "      <th>75%</th>\n",
              "      <td>7.000000</td>\n",
              "    </tr>\n",
              "    <tr>\n",
              "      <th>max</th>\n",
              "      <td>9.000000</td>\n",
              "    </tr>\n",
              "  </tbody>\n",
              "</table>\n",
              "</div>"
            ]
          },
          "metadata": {},
          "execution_count": 5
        }
      ],
      "metadata": {
        "id": "vFHzR02jpR0t",
        "outputId": "f3373018-93ec-44d1-fc88-6052cdf4a01a"
      }
    },
    {
      "cell_type": "code",
      "execution_count": 6,
      "source": [
        "x_train = np.reshape(x_train_raw, (-1, 28, 28, 1))\r\n",
        "y_train = tf.one_hot(y_train_raw, 10).numpy()\r\n",
        "x_test = np.reshape(x_test_raw, (-1, 28, 28, 1))\r\n",
        "y_test = tf.one_hot(y_test_raw, 10).numpy()"
      ],
      "outputs": [],
      "metadata": {
        "id": "Izm0ab5TpR0t"
      }
    },
    {
      "cell_type": "code",
      "execution_count": 7,
      "source": [
        "x_train, x_valid, y_train, y_valid = train_test_split(x_train, y_train, test_size=0.1, random_state=1)"
      ],
      "outputs": [],
      "metadata": {
        "id": "Hb8gvnpypR0u"
      }
    },
    {
      "cell_type": "code",
      "execution_count": 8,
      "source": [
        "drop = 0.1"
      ],
      "outputs": [],
      "metadata": {
        "id": "UkPg0qk5pR0u"
      }
    },
    {
      "cell_type": "code",
      "execution_count": 34,
      "source": [
        "model = None\r\n",
        "model = Sequential()\r\n",
        "\r\n",
        "model.add(preprocessing.Resizing(28, 28))\r\n",
        "model.add(preprocessing.Rescaling(1./255))\r\n",
        "\r\n",
        "# model.add(preprocessing.RandomFlip())\r\n",
        "model.add(preprocessing.RandomRotation(0.10))\r\n",
        "# model.add(preprocessing.RandomContrast(0.05))\r\n",
        "# model.add(preprocessing.RandomZoom(0.05, 0.05))\r\n",
        "\r\n",
        "model.add(Conv2D(128, 7, activation=LeakyReLU(), input_shape=(28, 28, 1), padding='same'))\r\n",
        "model.add(BatchNormalization())\r\n",
        "# model.add(MaxPooling2D((2,2), padding='same'))\r\n",
        "model.add(Conv2D(128, 5, activation=LeakyReLU(), padding='same'))\r\n",
        "model.add(BatchNormalization())\r\n",
        "model.add(MaxPooling2D((2,2), padding='same'))\r\n",
        "# model.add(Dropout(0.05))\r\n",
        "\r\n",
        "model.add(Conv2D(128, 5, activation=LeakyReLU(), padding='same'))\r\n",
        "model.add(BatchNormalization())\r\n",
        "model.add(Conv2D(128, 3, activation=LeakyReLU(), padding='same'))\r\n",
        "model.add(BatchNormalization())\r\n",
        "# model.add(MaxPooling2D((2, 2), padding='same'))\r\n",
        "model.add(Conv2D(128, 3, activation=LeakyReLU(), padding='same'))\r\n",
        "model.add(BatchNormalization())\r\n",
        "model.add(MaxPooling2D((2, 2), padding='same'))\r\n",
        "# model.add(Dropout(0.05))\r\n",
        "\r\n",
        "model.add(Flatten())\r\n",
        "model.add(Dense(256, LeakyReLU()))\r\n",
        "model.add(BatchNormalization())\r\n",
        "model.add(Dense(128, LeakyReLU()))\r\n",
        "model.add(BatchNormalization())\r\n",
        "model.add(Dense(64, LeakyReLU()))\r\n",
        "model.add(BatchNormalization())\r\n",
        "# model.add(Dropout(0.20))\r\n",
        "\r\n",
        "model.add(Dense(10, 'softmax'))\r\n",
        "\r\n",
        "model.compile(tf.keras.optimizers.Adam(), tf.keras.losses.CategoricalCrossentropy(), 'accuracy')\r\n",
        "model.build(input_shape=(1, 28, 28, 1))\r\n",
        "model.summary()"
      ],
      "outputs": [
        {
          "output_type": "stream",
          "name": "stdout",
          "text": [
            "Model: \"sequential_5\"\n",
            "_________________________________________________________________\n",
            "Layer (type)                 Output Shape              Param #   \n",
            "=================================================================\n",
            "resizing_5 (Resizing)        (1, 28, 28, 1)            0         \n",
            "_________________________________________________________________\n",
            "rescaling_5 (Rescaling)      (1, 28, 28, 1)            0         \n",
            "_________________________________________________________________\n",
            "random_rotation_2 (RandomRot (1, 28, 28, 1)            0         \n",
            "_________________________________________________________________\n",
            "conv2d_20 (Conv2D)           (1, 28, 28, 128)          6400      \n",
            "_________________________________________________________________\n",
            "batch_normalization_35 (Batc (1, 28, 28, 128)          512       \n",
            "_________________________________________________________________\n",
            "conv2d_21 (Conv2D)           (1, 28, 28, 128)          409728    \n",
            "_________________________________________________________________\n",
            "batch_normalization_36 (Batc (1, 28, 28, 128)          512       \n",
            "_________________________________________________________________\n",
            "max_pooling2d_11 (MaxPooling (1, 14, 14, 128)          0         \n",
            "_________________________________________________________________\n",
            "conv2d_22 (Conv2D)           (1, 14, 14, 128)          409728    \n",
            "_________________________________________________________________\n",
            "batch_normalization_37 (Batc (1, 14, 14, 128)          512       \n",
            "_________________________________________________________________\n",
            "conv2d_23 (Conv2D)           (1, 14, 14, 128)          147584    \n",
            "_________________________________________________________________\n",
            "batch_normalization_38 (Batc (1, 14, 14, 128)          512       \n",
            "_________________________________________________________________\n",
            "conv2d_24 (Conv2D)           (1, 14, 14, 128)          147584    \n",
            "_________________________________________________________________\n",
            "batch_normalization_39 (Batc (1, 14, 14, 128)          512       \n",
            "_________________________________________________________________\n",
            "max_pooling2d_12 (MaxPooling (1, 7, 7, 128)            0         \n",
            "_________________________________________________________________\n",
            "flatten_5 (Flatten)          (1, 6272)                 0         \n",
            "_________________________________________________________________\n",
            "dense_20 (Dense)             (1, 256)                  1605888   \n",
            "_________________________________________________________________\n",
            "batch_normalization_40 (Batc (1, 256)                  1024      \n",
            "_________________________________________________________________\n",
            "dense_21 (Dense)             (1, 128)                  32896     \n",
            "_________________________________________________________________\n",
            "batch_normalization_41 (Batc (1, 128)                  512       \n",
            "_________________________________________________________________\n",
            "dense_22 (Dense)             (1, 64)                   8256      \n",
            "_________________________________________________________________\n",
            "batch_normalization_42 (Batc (1, 64)                   256       \n",
            "_________________________________________________________________\n",
            "dense_23 (Dense)             (1, 10)                   650       \n",
            "=================================================================\n",
            "Total params: 2,773,066\n",
            "Trainable params: 2,770,890\n",
            "Non-trainable params: 2,176\n",
            "_________________________________________________________________\n"
          ]
        }
      ],
      "metadata": {
        "id": "qGElhrPmpR0u",
        "outputId": "56764474-1a3e-4fe1-eeb7-ff00028e000e"
      }
    },
    {
      "cell_type": "code",
      "execution_count": 35,
      "source": [
        "learning_rate = tf.keras.callbacks.ReduceLROnPlateau(monitor='loss', min_delta=0.002, factor=0.4, patience=2) #0.001\r\n",
        "early_stop = tf.keras.callbacks.EarlyStopping(\r\n",
        "    monitor='loss', min_delta=0.002, patience=3, verbose=1,\r\n",
        "    mode='auto', baseline=None, restore_best_weights=False\r\n",
        ")"
      ],
      "outputs": [],
      "metadata": {
        "id": "XlXqhwHPpR0u"
      }
    },
    {
      "cell_type": "code",
      "execution_count": 36,
      "source": [
        "if isdir('./logs'):\r\n",
        "    rmtree('./logs')\r\n",
        "else:\r\n",
        "    print('LOGS DOES NOT EXIST')\r\n",
        "tbcb = tf.keras.callbacks.TensorBoard()"
      ],
      "outputs": [],
      "metadata": {
        "id": "DAhFBlMppR0v",
        "outputId": "ef2303b6-6000-49c0-ec47-d77860dfce20"
      }
    },
    {
      "cell_type": "code",
      "execution_count": 37,
      "source": [
        "model_train = model.fit(x_train, y_train, 128, 100, 1, callbacks=[learning_rate, early_stop, tbcb], validation_data=(x_valid, y_valid)).history # "
      ],
      "outputs": [
        {
          "output_type": "stream",
          "name": "stdout",
          "text": [
            "Epoch 1/100\n",
            "422/422 [==============================] - 102s 234ms/step - loss: 0.5257 - accuracy: 0.8086 - val_loss: 1.3466 - val_accuracy: 0.5655\n",
            "Epoch 2/100\n",
            "422/422 [==============================] - 96s 227ms/step - loss: 0.3771 - accuracy: 0.8609 - val_loss: 0.4219 - val_accuracy: 0.8527\n",
            "Epoch 3/100\n",
            "422/422 [==============================] - 96s 227ms/step - loss: 0.3309 - accuracy: 0.8779 - val_loss: 0.3722 - val_accuracy: 0.8662\n",
            "Epoch 4/100\n",
            "422/422 [==============================] - 96s 227ms/step - loss: 0.3075 - accuracy: 0.8871 - val_loss: 0.3547 - val_accuracy: 0.8758\n",
            "Epoch 5/100\n",
            "422/422 [==============================] - 96s 227ms/step - loss: 0.2890 - accuracy: 0.8933 - val_loss: 0.2894 - val_accuracy: 0.8933\n",
            "Epoch 6/100\n",
            "422/422 [==============================] - 96s 227ms/step - loss: 0.2756 - accuracy: 0.8989 - val_loss: 0.3054 - val_accuracy: 0.8900\n",
            "Epoch 7/100\n",
            "422/422 [==============================] - 96s 227ms/step - loss: 0.2629 - accuracy: 0.9027 - val_loss: 0.2947 - val_accuracy: 0.8937\n",
            "Epoch 8/100\n",
            "422/422 [==============================] - 96s 227ms/step - loss: 0.2551 - accuracy: 0.9051 - val_loss: 0.3053 - val_accuracy: 0.8952\n",
            "Epoch 9/100\n",
            "422/422 [==============================] - 96s 227ms/step - loss: 0.2452 - accuracy: 0.9094 - val_loss: 0.2793 - val_accuracy: 0.8992\n",
            "Epoch 10/100\n",
            "422/422 [==============================] - 96s 227ms/step - loss: 0.2352 - accuracy: 0.9129 - val_loss: 0.4266 - val_accuracy: 0.8547\n",
            "Epoch 11/100\n",
            "422/422 [==============================] - 96s 227ms/step - loss: 0.2308 - accuracy: 0.9144 - val_loss: 0.2869 - val_accuracy: 0.8985\n",
            "Epoch 12/100\n",
            "422/422 [==============================] - 96s 227ms/step - loss: 0.2216 - accuracy: 0.9176 - val_loss: 0.2732 - val_accuracy: 0.9053\n",
            "Epoch 13/100\n",
            "422/422 [==============================] - 96s 227ms/step - loss: 0.2147 - accuracy: 0.9202 - val_loss: 0.2830 - val_accuracy: 0.8997\n",
            "Epoch 14/100\n",
            "422/422 [==============================] - 96s 227ms/step - loss: 0.2163 - accuracy: 0.9195 - val_loss: 0.2654 - val_accuracy: 0.9072\n",
            "Epoch 15/100\n",
            "422/422 [==============================] - 96s 227ms/step - loss: 0.2068 - accuracy: 0.9234 - val_loss: 0.2439 - val_accuracy: 0.9148\n",
            "Epoch 16/100\n",
            "422/422 [==============================] - 96s 227ms/step - loss: 0.2037 - accuracy: 0.9264 - val_loss: 0.2381 - val_accuracy: 0.9182\n",
            "Epoch 17/100\n",
            "422/422 [==============================] - ETA: 0s - loss: 0.1972 - accuracy: 0.9262"
          ]
        },
        {
          "output_type": "error",
          "ename": "KeyboardInterrupt",
          "evalue": "",
          "traceback": [
            "\u001b[1;31m---------------------------------------------------------------------------\u001b[0m",
            "\u001b[1;31mKeyboardInterrupt\u001b[0m                         Traceback (most recent call last)",
            "\u001b[1;32m~\\AppData\\Local\\Temp/ipykernel_25144/2685404447.py\u001b[0m in \u001b[0;36m<module>\u001b[1;34m\u001b[0m\n\u001b[1;32m----> 1\u001b[1;33m \u001b[0mmodel_train\u001b[0m \u001b[1;33m=\u001b[0m \u001b[0mmodel\u001b[0m\u001b[1;33m.\u001b[0m\u001b[0mfit\u001b[0m\u001b[1;33m(\u001b[0m\u001b[0mx_train\u001b[0m\u001b[1;33m,\u001b[0m \u001b[0my_train\u001b[0m\u001b[1;33m,\u001b[0m \u001b[1;36m128\u001b[0m\u001b[1;33m,\u001b[0m \u001b[1;36m100\u001b[0m\u001b[1;33m,\u001b[0m \u001b[1;36m1\u001b[0m\u001b[1;33m,\u001b[0m \u001b[0mcallbacks\u001b[0m\u001b[1;33m=\u001b[0m\u001b[1;33m[\u001b[0m\u001b[0mlearning_rate\u001b[0m\u001b[1;33m,\u001b[0m \u001b[0mearly_stop\u001b[0m\u001b[1;33m,\u001b[0m \u001b[0mtbcb\u001b[0m\u001b[1;33m]\u001b[0m\u001b[1;33m,\u001b[0m \u001b[0mvalidation_data\u001b[0m\u001b[1;33m=\u001b[0m\u001b[1;33m(\u001b[0m\u001b[0mx_valid\u001b[0m\u001b[1;33m,\u001b[0m \u001b[0my_valid\u001b[0m\u001b[1;33m)\u001b[0m\u001b[1;33m)\u001b[0m\u001b[1;33m.\u001b[0m\u001b[0mhistory\u001b[0m \u001b[1;31m#\u001b[0m\u001b[1;33m\u001b[0m\u001b[1;33m\u001b[0m\u001b[0m\n\u001b[0m",
            "\u001b[1;32m~\\AppData\\Roaming\\Python\\Python38\\site-packages\\keras\\engine\\training.py\u001b[0m in \u001b[0;36mfit\u001b[1;34m(self, x, y, batch_size, epochs, verbose, callbacks, validation_split, validation_data, shuffle, class_weight, sample_weight, initial_epoch, steps_per_epoch, validation_steps, validation_batch_size, validation_freq, max_queue_size, workers, use_multiprocessing)\u001b[0m\n\u001b[0;32m   1213\u001b[0m                 \u001b[0mmodel\u001b[0m\u001b[1;33m=\u001b[0m\u001b[0mself\u001b[0m\u001b[1;33m,\u001b[0m\u001b[1;33m\u001b[0m\u001b[1;33m\u001b[0m\u001b[0m\n\u001b[0;32m   1214\u001b[0m                 steps_per_execution=self._steps_per_execution)\n\u001b[1;32m-> 1215\u001b[1;33m           val_logs = self.evaluate(\n\u001b[0m\u001b[0;32m   1216\u001b[0m               \u001b[0mx\u001b[0m\u001b[1;33m=\u001b[0m\u001b[0mval_x\u001b[0m\u001b[1;33m,\u001b[0m\u001b[1;33m\u001b[0m\u001b[1;33m\u001b[0m\u001b[0m\n\u001b[0;32m   1217\u001b[0m               \u001b[0my\u001b[0m\u001b[1;33m=\u001b[0m\u001b[0mval_y\u001b[0m\u001b[1;33m,\u001b[0m\u001b[1;33m\u001b[0m\u001b[1;33m\u001b[0m\u001b[0m\n",
            "\u001b[1;32m~\\AppData\\Roaming\\Python\\Python38\\site-packages\\keras\\engine\\training.py\u001b[0m in \u001b[0;36mevaluate\u001b[1;34m(self, x, y, batch_size, verbose, sample_weight, steps, callbacks, max_queue_size, workers, use_multiprocessing, return_dict, **kwargs)\u001b[0m\n\u001b[0;32m   1499\u001b[0m             \u001b[1;32mwith\u001b[0m \u001b[0mtf\u001b[0m\u001b[1;33m.\u001b[0m\u001b[0mprofiler\u001b[0m\u001b[1;33m.\u001b[0m\u001b[0mexperimental\u001b[0m\u001b[1;33m.\u001b[0m\u001b[0mTrace\u001b[0m\u001b[1;33m(\u001b[0m\u001b[1;34m'test'\u001b[0m\u001b[1;33m,\u001b[0m \u001b[0mstep_num\u001b[0m\u001b[1;33m=\u001b[0m\u001b[0mstep\u001b[0m\u001b[1;33m,\u001b[0m \u001b[0m_r\u001b[0m\u001b[1;33m=\u001b[0m\u001b[1;36m1\u001b[0m\u001b[1;33m)\u001b[0m\u001b[1;33m:\u001b[0m\u001b[1;33m\u001b[0m\u001b[1;33m\u001b[0m\u001b[0m\n\u001b[0;32m   1500\u001b[0m               \u001b[0mcallbacks\u001b[0m\u001b[1;33m.\u001b[0m\u001b[0mon_test_batch_begin\u001b[0m\u001b[1;33m(\u001b[0m\u001b[0mstep\u001b[0m\u001b[1;33m)\u001b[0m\u001b[1;33m\u001b[0m\u001b[1;33m\u001b[0m\u001b[0m\n\u001b[1;32m-> 1501\u001b[1;33m               \u001b[0mtmp_logs\u001b[0m \u001b[1;33m=\u001b[0m \u001b[0mself\u001b[0m\u001b[1;33m.\u001b[0m\u001b[0mtest_function\u001b[0m\u001b[1;33m(\u001b[0m\u001b[0miterator\u001b[0m\u001b[1;33m)\u001b[0m\u001b[1;33m\u001b[0m\u001b[1;33m\u001b[0m\u001b[0m\n\u001b[0m\u001b[0;32m   1502\u001b[0m               \u001b[1;32mif\u001b[0m \u001b[0mdata_handler\u001b[0m\u001b[1;33m.\u001b[0m\u001b[0mshould_sync\u001b[0m\u001b[1;33m:\u001b[0m\u001b[1;33m\u001b[0m\u001b[1;33m\u001b[0m\u001b[0m\n\u001b[0;32m   1503\u001b[0m                 \u001b[0mcontext\u001b[0m\u001b[1;33m.\u001b[0m\u001b[0masync_wait\u001b[0m\u001b[1;33m(\u001b[0m\u001b[1;33m)\u001b[0m\u001b[1;33m\u001b[0m\u001b[1;33m\u001b[0m\u001b[0m\n",
            "\u001b[1;32m~\\AppData\\Roaming\\Python\\Python38\\site-packages\\tensorflow\\python\\eager\\def_function.py\u001b[0m in \u001b[0;36m__call__\u001b[1;34m(self, *args, **kwds)\u001b[0m\n\u001b[0;32m    883\u001b[0m \u001b[1;33m\u001b[0m\u001b[0m\n\u001b[0;32m    884\u001b[0m       \u001b[1;32mwith\u001b[0m \u001b[0mOptionalXlaContext\u001b[0m\u001b[1;33m(\u001b[0m\u001b[0mself\u001b[0m\u001b[1;33m.\u001b[0m\u001b[0m_jit_compile\u001b[0m\u001b[1;33m)\u001b[0m\u001b[1;33m:\u001b[0m\u001b[1;33m\u001b[0m\u001b[1;33m\u001b[0m\u001b[0m\n\u001b[1;32m--> 885\u001b[1;33m         \u001b[0mresult\u001b[0m \u001b[1;33m=\u001b[0m \u001b[0mself\u001b[0m\u001b[1;33m.\u001b[0m\u001b[0m_call\u001b[0m\u001b[1;33m(\u001b[0m\u001b[1;33m*\u001b[0m\u001b[0margs\u001b[0m\u001b[1;33m,\u001b[0m \u001b[1;33m**\u001b[0m\u001b[0mkwds\u001b[0m\u001b[1;33m)\u001b[0m\u001b[1;33m\u001b[0m\u001b[1;33m\u001b[0m\u001b[0m\n\u001b[0m\u001b[0;32m    886\u001b[0m \u001b[1;33m\u001b[0m\u001b[0m\n\u001b[0;32m    887\u001b[0m       \u001b[0mnew_tracing_count\u001b[0m \u001b[1;33m=\u001b[0m \u001b[0mself\u001b[0m\u001b[1;33m.\u001b[0m\u001b[0mexperimental_get_tracing_count\u001b[0m\u001b[1;33m(\u001b[0m\u001b[1;33m)\u001b[0m\u001b[1;33m\u001b[0m\u001b[1;33m\u001b[0m\u001b[0m\n",
            "\u001b[1;32m~\\AppData\\Roaming\\Python\\Python38\\site-packages\\tensorflow\\python\\eager\\def_function.py\u001b[0m in \u001b[0;36m_call\u001b[1;34m(self, *args, **kwds)\u001b[0m\n\u001b[0;32m    922\u001b[0m       \u001b[1;31m# In this case we have not created variables on the first call. So we can\u001b[0m\u001b[1;33m\u001b[0m\u001b[1;33m\u001b[0m\u001b[1;33m\u001b[0m\u001b[0m\n\u001b[0;32m    923\u001b[0m       \u001b[1;31m# run the first trace but we should fail if variables are created.\u001b[0m\u001b[1;33m\u001b[0m\u001b[1;33m\u001b[0m\u001b[1;33m\u001b[0m\u001b[0m\n\u001b[1;32m--> 924\u001b[1;33m       \u001b[0mresults\u001b[0m \u001b[1;33m=\u001b[0m \u001b[0mself\u001b[0m\u001b[1;33m.\u001b[0m\u001b[0m_stateful_fn\u001b[0m\u001b[1;33m(\u001b[0m\u001b[1;33m*\u001b[0m\u001b[0margs\u001b[0m\u001b[1;33m,\u001b[0m \u001b[1;33m**\u001b[0m\u001b[0mkwds\u001b[0m\u001b[1;33m)\u001b[0m\u001b[1;33m\u001b[0m\u001b[1;33m\u001b[0m\u001b[0m\n\u001b[0m\u001b[0;32m    925\u001b[0m       \u001b[1;32mif\u001b[0m \u001b[0mself\u001b[0m\u001b[1;33m.\u001b[0m\u001b[0m_created_variables\u001b[0m \u001b[1;32mand\u001b[0m \u001b[1;32mnot\u001b[0m \u001b[0mALLOW_DYNAMIC_VARIABLE_CREATION\u001b[0m\u001b[1;33m:\u001b[0m\u001b[1;33m\u001b[0m\u001b[1;33m\u001b[0m\u001b[0m\n\u001b[0;32m    926\u001b[0m         raise ValueError(\"Creating variables on a non-first call to a function\"\n",
            "\u001b[1;32m~\\AppData\\Roaming\\Python\\Python38\\site-packages\\tensorflow\\python\\eager\\function.py\u001b[0m in \u001b[0;36m__call__\u001b[1;34m(self, *args, **kwargs)\u001b[0m\n\u001b[0;32m   3037\u001b[0m       (graph_function,\n\u001b[0;32m   3038\u001b[0m        filtered_flat_args) = self._maybe_define_function(args, kwargs)\n\u001b[1;32m-> 3039\u001b[1;33m     return graph_function._call_flat(\n\u001b[0m\u001b[0;32m   3040\u001b[0m         filtered_flat_args, captured_inputs=graph_function.captured_inputs)  # pylint: disable=protected-access\n\u001b[0;32m   3041\u001b[0m \u001b[1;33m\u001b[0m\u001b[0m\n",
            "\u001b[1;32m~\\AppData\\Roaming\\Python\\Python38\\site-packages\\tensorflow\\python\\eager\\function.py\u001b[0m in \u001b[0;36m_call_flat\u001b[1;34m(self, args, captured_inputs, cancellation_manager)\u001b[0m\n\u001b[0;32m   1961\u001b[0m         and executing_eagerly):\n\u001b[0;32m   1962\u001b[0m       \u001b[1;31m# No tape is watching; skip to running the function.\u001b[0m\u001b[1;33m\u001b[0m\u001b[1;33m\u001b[0m\u001b[1;33m\u001b[0m\u001b[0m\n\u001b[1;32m-> 1963\u001b[1;33m       return self._build_call_outputs(self._inference_function.call(\n\u001b[0m\u001b[0;32m   1964\u001b[0m           ctx, args, cancellation_manager=cancellation_manager))\n\u001b[0;32m   1965\u001b[0m     forward_backward = self._select_forward_and_backward_functions(\n",
            "\u001b[1;32m~\\AppData\\Roaming\\Python\\Python38\\site-packages\\tensorflow\\python\\eager\\function.py\u001b[0m in \u001b[0;36mcall\u001b[1;34m(self, ctx, args, cancellation_manager)\u001b[0m\n\u001b[0;32m    589\u001b[0m       \u001b[1;32mwith\u001b[0m \u001b[0m_InterpolateFunctionError\u001b[0m\u001b[1;33m(\u001b[0m\u001b[0mself\u001b[0m\u001b[1;33m)\u001b[0m\u001b[1;33m:\u001b[0m\u001b[1;33m\u001b[0m\u001b[1;33m\u001b[0m\u001b[0m\n\u001b[0;32m    590\u001b[0m         \u001b[1;32mif\u001b[0m \u001b[0mcancellation_manager\u001b[0m \u001b[1;32mis\u001b[0m \u001b[1;32mNone\u001b[0m\u001b[1;33m:\u001b[0m\u001b[1;33m\u001b[0m\u001b[1;33m\u001b[0m\u001b[0m\n\u001b[1;32m--> 591\u001b[1;33m           outputs = execute.execute(\n\u001b[0m\u001b[0;32m    592\u001b[0m               \u001b[0mstr\u001b[0m\u001b[1;33m(\u001b[0m\u001b[0mself\u001b[0m\u001b[1;33m.\u001b[0m\u001b[0msignature\u001b[0m\u001b[1;33m.\u001b[0m\u001b[0mname\u001b[0m\u001b[1;33m)\u001b[0m\u001b[1;33m,\u001b[0m\u001b[1;33m\u001b[0m\u001b[1;33m\u001b[0m\u001b[0m\n\u001b[0;32m    593\u001b[0m               \u001b[0mnum_outputs\u001b[0m\u001b[1;33m=\u001b[0m\u001b[0mself\u001b[0m\u001b[1;33m.\u001b[0m\u001b[0m_num_outputs\u001b[0m\u001b[1;33m,\u001b[0m\u001b[1;33m\u001b[0m\u001b[1;33m\u001b[0m\u001b[0m\n",
            "\u001b[1;32m~\\AppData\\Roaming\\Python\\Python38\\site-packages\\tensorflow\\python\\eager\\execute.py\u001b[0m in \u001b[0;36mquick_execute\u001b[1;34m(op_name, num_outputs, inputs, attrs, ctx, name)\u001b[0m\n\u001b[0;32m     57\u001b[0m   \u001b[1;32mtry\u001b[0m\u001b[1;33m:\u001b[0m\u001b[1;33m\u001b[0m\u001b[1;33m\u001b[0m\u001b[0m\n\u001b[0;32m     58\u001b[0m     \u001b[0mctx\u001b[0m\u001b[1;33m.\u001b[0m\u001b[0mensure_initialized\u001b[0m\u001b[1;33m(\u001b[0m\u001b[1;33m)\u001b[0m\u001b[1;33m\u001b[0m\u001b[1;33m\u001b[0m\u001b[0m\n\u001b[1;32m---> 59\u001b[1;33m     tensors = pywrap_tfe.TFE_Py_Execute(ctx._handle, device_name, op_name,\n\u001b[0m\u001b[0;32m     60\u001b[0m                                         inputs, attrs, num_outputs)\n\u001b[0;32m     61\u001b[0m   \u001b[1;32mexcept\u001b[0m \u001b[0mcore\u001b[0m\u001b[1;33m.\u001b[0m\u001b[0m_NotOkStatusException\u001b[0m \u001b[1;32mas\u001b[0m \u001b[0me\u001b[0m\u001b[1;33m:\u001b[0m\u001b[1;33m\u001b[0m\u001b[1;33m\u001b[0m\u001b[0m\n",
            "\u001b[1;31mKeyboardInterrupt\u001b[0m: "
          ]
        }
      ],
      "metadata": {
        "id": "ciOGP8qApR0v",
        "outputId": "ccf71c0c-adc9-451a-ef94-d12e30f46dcc"
      }
    },
    {
      "cell_type": "code",
      "execution_count": 32,
      "source": [
        "model.evaluate(x_test, y_test)"
      ],
      "outputs": [
        {
          "output_type": "stream",
          "name": "stdout",
          "text": [
            "313/313 [==============================] - 6s 18ms/step - loss: 0.2396 - accuracy: 0.9325\n"
          ]
        },
        {
          "output_type": "execute_result",
          "data": {
            "text/plain": [
              "[0.23956140875816345, 0.9325000047683716]"
            ]
          },
          "metadata": {},
          "execution_count": 32
        }
      ],
      "metadata": {
        "id": "W-pj69VUpR0v",
        "outputId": "8ae47de8-d891-47e5-b0c8-cc2f15716e2f"
      }
    },
    {
      "cell_type": "code",
      "execution_count": 29,
      "source": [
        "def plot_conv_weights(model, layer):\r\n",
        "    W = model.get_layer(name=layer).get_weights()[0]\r\n",
        "    if len(W.shape) == 4:\r\n",
        "        W = np.squeeze(W)\r\n",
        "        print(W.shape)\r\n",
        "        if len(W.shape) == 4:\r\n",
        "            W = W.reshape(W.shape[0], W.shape[1], W.shape[2] * W.shape[3]) \r\n",
        "        else:\r\n",
        "            W = W.reshape(W.shape[0], W.shape[1], W.shape[2]) \r\n",
        "        fig, axs = plt.subplots(1,15, figsize=(30,30))\r\n",
        "        # fig.subplots_adjust(hspace = .5, wspace=.001)\r\n",
        "        axs = axs.ravel()\r\n",
        "        for i in range(15):\r\n",
        "            axs[i].imshow(W[:,:,i], cmap='Greys_r')\r\n",
        "            axs[i].set_title(str(i))\r\n",
        "\r\n",
        "for layer in model.layers:\r\n",
        "    if 'conv' not in layer.name:\r\n",
        "        continue\r\n",
        "    else:\r\n",
        "        plot_conv_weights(model, layer.name)"
      ],
      "outputs": [
        {
          "output_type": "stream",
          "name": "stdout",
          "text": [
            "(7, 7, 64)\n",
            "(5, 5, 64, 128)\n",
            "(3, 3, 128, 128)\n",
            "(3, 3, 128, 128)\n"
          ]
        },
        {
          "output_type": "display_data",
          "data": {
            "text/plain": [
              "<Figure size 2160x2160 with 15 Axes>"
            ],
            "image/png": "[encoded data removed]"
          },
          "metadata": {}
        },
        {
          "output_type": "display_data",
          "data": {
            "text/plain": [
              "<Figure size 2160x2160 with 15 Axes>"
            ],
            "image/png": "[encoded data removed]"
          },
          "metadata": {}
        },
        {
          "output_type": "display_data",
          "data": {
            "text/plain": [
              "<Figure size 2160x2160 with 15 Axes>"
            ],
            "image/png": "[encoded data removed]"
          },
          "metadata": {}
        },
        {
          "output_type": "display_data",
          "data": {
            "text/plain": [
              "<Figure size 2160x2160 with 15 Axes>"
            ],
            "image/png": "[encoded data removed]"
          },
          "metadata": {}
        }
      ],
      "metadata": {
        "id": "D24p-f95pR0v",
        "outputId": "8345ad67-3e1e-4013-bd12-1d5255a3dfd6"
      }
    },
    {
      "cell_type": "code",
      "execution_count": 30,
      "source": [
        "# plt.figure(figsize=[10,2])"
      ],
      "outputs": [],
      "metadata": {
        "id": "Mdg-nCiJpR0w"
      }
    },
    {
      "cell_type": "code",
      "execution_count": 31,
      "source": [
        "acc = model_train['accuracy']\r\n",
        "val_acc = model_train['val_accuracy']\r\n",
        "loss = model_train['loss']\r\n",
        "val_loss = model_train['val_loss']\r\n",
        "epoch_count = range(len(acc))\r\n",
        "\r\n",
        "plt.plot(epoch_count, acc, 'b', label='Train acc')\r\n",
        "plt.plot(epoch_count, val_acc, 'g', label='Val acc')\r\n",
        "plt.title('ACCURACY')\r\n",
        "plt.legend()\r\n",
        "plt.figure()\r\n",
        "\r\n",
        "plt.plot(epoch_count, loss, 'b', label='Train loss')\r\n",
        "plt.plot(epoch_count, val_loss, 'g', label='Val loss')\r\n",
        "plt.title('LOSS')\r\n",
        "plt.legend()\r\n",
        "plt.figure()\r\n",
        "\r\n",
        "plt.show()"
      ],
      "outputs": [
        {
          "output_type": "display_data",
          "data": {
            "text/plain": [
              "<Figure size 432x288 with 1 Axes>"
            ],
            "image/png": "[encoded data removed]"
          },
          "metadata": {}
        },
        {
          "output_type": "display_data",
          "data": {
            "text/plain": [
              "<Figure size 432x288 with 1 Axes>"
            ],
            "image/png": "[encoded data removed]"
          },
          "metadata": {}
        },
        {
          "output_type": "display_data",
          "data": {
            "text/plain": [
              "<Figure size 432x288 with 0 Axes>"
            ]
          },
          "metadata": {}
        }
      ],
      "metadata": {
        "id": "nA-NA9PgpR0w",
        "outputId": "af371e34-3fac-488e-a665-c2eac4b1ef5f"
      }
    }
  ]
}