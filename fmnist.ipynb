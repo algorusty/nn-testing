{
  "nbformat": 4,
  "nbformat_minor": 2,
  "metadata": {
    "orig_nbformat": 4,
    "language_info": {
      "name": "python",
      "version": "3.8.3",
      "mimetype": "text/x-python",
      "codemirror_mode": {
        "name": "ipython",
        "version": 3
      },
      "pygments_lexer": "ipython3",
      "nbconvert_exporter": "python",
      "file_extension": ".py"
    },
    "kernelspec": {
      "name": "python3",
      "display_name": "Python 3.8.3 64-bit"
    },
    "interpreter": {
      "hash": "1baa965d5efe3ac65b79dfc60c0d706280b1da80fedb7760faf2759126c4f253"
    },
    "colab": {
      "name": "fmnist.ipynb",
      "provenance": []
    }
  },
  "cells": [
    {
      "cell_type": "code",
      "execution_count": 1,
      "source": [
        "import numpy as np\n",
        "import matplotlib.pyplot as plt\n",
        "import tensorflow as tf\n",
        "import pandas as pd\n",
        "from shutil import rmtree\n",
        "from os.path import isdir\n",
        "from tensorflow.keras.layers.experimental import preprocessing\n",
        "from tensorflow.keras.models import Sequential, Model\n",
        "from tensorflow.keras.layers import Dense, Dropout, Flatten, Conv2D, MaxPooling2D, BatchNormalization, LeakyReLU\n",
        "from sklearn.model_selection import train_test_split"
      ],
      "outputs": [],
      "metadata": {
        "id": "ZO0PYqmypR0r"
      }
    },
    {
      "cell_type": "code",
      "execution_count": 2,
      "source": [
        "%load_ext tensorboard"
      ],
      "outputs": [],
      "metadata": {
        "id": "mlaViZd1pR0s"
      }
    },
    {
      "cell_type": "code",
      "execution_count": 3,
      "source": [
        "(x_train_raw, y_train_raw), (x_test_raw, y_test_raw) = tf.keras.datasets.fashion_mnist.load_data()"
      ],
      "outputs": [],
      "metadata": {
        "id": "NPJZVeFPpR0t"
      }
    },
    {
      "cell_type": "code",
      "execution_count": 4,
      "source": [
        "# plt.figure(figsize=[10,2])\n",
        "# f, ax = plt.subplots(1, 10, figsize=[20,5])\n",
        "# plt.imshow()\n",
        "# for i in range(0, 10):\n",
        "# \timage = np.reshape(x_train_raw[i], (28,28))\n",
        "# \tlabel = y_train_raw[i]\n",
        "# \tax[i].imshow(image)\n",
        "# \tax[i].set_title(label)\n",
        "\t# plt.figimage(image)\n",
        "# plt.show()\n"
      ],
      "outputs": [],
      "metadata": {
        "id": "w7k1Mqt6pR0t"
      }
    },
    {
      "cell_type": "code",
      "execution_count": 5,
      "source": [
        "pd.DataFrame(y_train_raw).describe()"
      ],
      "outputs": [
        {
          "output_type": "execute_result",
          "data": {
            "text/plain": [
              "                  0\n",
              "count  60000.000000\n",
              "mean       4.500000\n",
              "std        2.872305\n",
              "min        0.000000\n",
              "25%        2.000000\n",
              "50%        4.500000\n",
              "75%        7.000000\n",
              "max        9.000000"
            ],
            "text/html": [
              "<div>\n",
              "<style scoped>\n",
              "    .dataframe tbody tr th:only-of-type {\n",
              "        vertical-align: middle;\n",
              "    }\n",
              "\n",
              "    .dataframe tbody tr th {\n",
              "        vertical-align: top;\n",
              "    }\n",
              "\n",
              "    .dataframe thead th {\n",
              "        text-align: right;\n",
              "    }\n",
              "</style>\n",
              "<table border=\"1\" class=\"dataframe\">\n",
              "  <thead>\n",
              "    <tr style=\"text-align: right;\">\n",
              "      <th></th>\n",
              "      <th>0</th>\n",
              "    </tr>\n",
              "  </thead>\n",
              "  <tbody>\n",
              "    <tr>\n",
              "      <th>count</th>\n",
              "      <td>60000.000000</td>\n",
              "    </tr>\n",
              "    <tr>\n",
              "      <th>mean</th>\n",
              "      <td>4.500000</td>\n",
              "    </tr>\n",
              "    <tr>\n",
              "      <th>std</th>\n",
              "      <td>2.872305</td>\n",
              "    </tr>\n",
              "    <tr>\n",
              "      <th>min</th>\n",
              "      <td>0.000000</td>\n",
              "    </tr>\n",
              "    <tr>\n",
              "      <th>25%</th>\n",
              "      <td>2.000000</td>\n",
              "    </tr>\n",
              "    <tr>\n",
              "      <th>50%</th>\n",
              "      <td>4.500000</td>\n",
              "    </tr>\n",
              "    <tr>\n",
              "      <th>75%</th>\n",
              "      <td>7.000000</td>\n",
              "    </tr>\n",
              "    <tr>\n",
              "      <th>max</th>\n",
              "      <td>9.000000</td>\n",
              "    </tr>\n",
              "  </tbody>\n",
              "</table>\n",
              "</div>"
            ]
          },
          "metadata": {},
          "execution_count": 5
        }
      ],
      "metadata": {
        "id": "vFHzR02jpR0t",
        "outputId": "f3373018-93ec-44d1-fc88-6052cdf4a01a"
      }
    },
    {
      "cell_type": "code",
      "execution_count": 6,
      "source": [
        "x_train = np.reshape(x_train_raw, (-1, 28, 28, 1))\r\n",
        "y_train = tf.one_hot(y_train_raw, 10).numpy()\r\n",
        "x_test = np.reshape(x_test_raw, (-1, 28, 28, 1))\r\n",
        "y_test = tf.one_hot(y_test_raw, 10).numpy()"
      ],
      "outputs": [],
      "metadata": {
        "id": "Izm0ab5TpR0t"
      }
    },
    {
      "cell_type": "code",
      "execution_count": 7,
      "source": [
        "x_train, x_valid, y_train, y_valid = train_test_split(x_train, y_train, test_size=0.1, random_state=1)"
      ],
      "outputs": [],
      "metadata": {
        "id": "Hb8gvnpypR0u"
      }
    },
    {
      "cell_type": "code",
      "execution_count": 8,
      "source": [
        "drop = 0.1"
      ],
      "outputs": [],
      "metadata": {
        "id": "UkPg0qk5pR0u"
      }
    },
    {
      "cell_type": "code",
      "execution_count": 24,
      "source": [
        "model = None\r\n",
        "model = Sequential()\r\n",
        "\r\n",
        "model.add(preprocessing.Resizing(28, 28))\r\n",
        "model.add(preprocessing.Rescaling(1./255))\r\n",
        "\r\n",
        "# model.add(preprocessing.RandomFlip())\r\n",
        "model.add(preprocessing.RandomRotation(0.10))\r\n",
        "# model.add(preprocessing.RandomContrast(0.05))\r\n",
        "# model.add(preprocessing.RandomZoom(0.05, 0.05))\r\n",
        "\r\n",
        "model.add(Conv2D(64, 7, activation=LeakyReLU(), input_shape=(28, 28, 1), padding='same'))\r\n",
        "model.add(BatchNormalization())\r\n",
        "# model.add(MaxPooling2D((2,2), padding='same'))\r\n",
        "model.add(Conv2D(128, 5, activation=LeakyReLU(), padding='same'))\r\n",
        "model.add(BatchNormalization())\r\n",
        "model.add(MaxPooling2D((2,2), padding='same'))\r\n",
        "# model.add(Dropout(0.05))\r\n",
        "\r\n",
        "model.add(Conv2D(128, 3, activation=LeakyReLU(), padding='same'))\r\n",
        "model.add(BatchNormalization())\r\n",
        "# model.add(MaxPooling2D((2, 2), padding='same'))\r\n",
        "model.add(Conv2D(128, 3, activation=LeakyReLU(), padding='same'))\r\n",
        "model.add(BatchNormalization())\r\n",
        "model.add(MaxPooling2D((2, 2), padding='same'))\r\n",
        "# model.add(Dropout(0.05))\r\n",
        "\r\n",
        "model.add(Flatten())\r\n",
        "model.add(Dense(256, LeakyReLU()))\r\n",
        "model.add(BatchNormalization())\r\n",
        "model.add(Dense(128, LeakyReLU()))\r\n",
        "model.add(BatchNormalization())\r\n",
        "model.add(Dense(64, LeakyReLU()))\r\n",
        "model.add(BatchNormalization())\r\n",
        "# model.add(Dropout(0.20))\r\n",
        "\r\n",
        "model.add(Dense(10, 'softmax'))\r\n",
        "\r\n",
        "model.compile(tf.keras.optimizers.Adam(), tf.keras.losses.CategoricalCrossentropy(), 'accuracy')\r\n",
        "model.build(input_shape=(1, 28, 28, 1))\r\n",
        "model.summary()"
      ],
      "outputs": [
        {
          "output_type": "stream",
          "name": "stdout",
          "text": [
            "Model: \"sequential_3\"\n",
            "_________________________________________________________________\n",
            "Layer (type)                 Output Shape              Param #   \n",
            "=================================================================\n",
            "resizing_3 (Resizing)        (1, 28, 28, 1)            0         \n",
            "_________________________________________________________________\n",
            "rescaling_3 (Rescaling)      (1, 28, 28, 1)            0         \n",
            "_________________________________________________________________\n",
            "random_rotation (RandomRotat (1, 28, 28, 1)            0         \n",
            "_________________________________________________________________\n",
            "conv2d_12 (Conv2D)           (1, 28, 28, 64)           3200      \n",
            "_________________________________________________________________\n",
            "batch_normalization_21 (Batc (1, 28, 28, 64)           256       \n",
            "_________________________________________________________________\n",
            "conv2d_13 (Conv2D)           (1, 28, 28, 128)          204928    \n",
            "_________________________________________________________________\n",
            "batch_normalization_22 (Batc (1, 28, 28, 128)          512       \n",
            "_________________________________________________________________\n",
            "max_pooling2d_7 (MaxPooling2 (1, 14, 14, 128)          0         \n",
            "_________________________________________________________________\n",
            "conv2d_14 (Conv2D)           (1, 14, 14, 128)          147584    \n",
            "_________________________________________________________________\n",
            "batch_normalization_23 (Batc (1, 14, 14, 128)          512       \n",
            "_________________________________________________________________\n",
            "conv2d_15 (Conv2D)           (1, 14, 14, 128)          147584    \n",
            "_________________________________________________________________\n",
            "batch_normalization_24 (Batc (1, 14, 14, 128)          512       \n",
            "_________________________________________________________________\n",
            "max_pooling2d_8 (MaxPooling2 (1, 7, 7, 128)            0         \n",
            "_________________________________________________________________\n",
            "flatten_3 (Flatten)          (1, 6272)                 0         \n",
            "_________________________________________________________________\n",
            "dense_12 (Dense)             (1, 256)                  1605888   \n",
            "_________________________________________________________________\n",
            "batch_normalization_25 (Batc (1, 256)                  1024      \n",
            "_________________________________________________________________\n",
            "dense_13 (Dense)             (1, 128)                  32896     \n",
            "_________________________________________________________________\n",
            "batch_normalization_26 (Batc (1, 128)                  512       \n",
            "_________________________________________________________________\n",
            "dense_14 (Dense)             (1, 64)                   8256      \n",
            "_________________________________________________________________\n",
            "batch_normalization_27 (Batc (1, 64)                   256       \n",
            "_________________________________________________________________\n",
            "dense_15 (Dense)             (1, 10)                   650       \n",
            "=================================================================\n",
            "Total params: 2,154,570\n",
            "Trainable params: 2,152,778\n",
            "Non-trainable params: 1,792\n",
            "_________________________________________________________________\n"
          ]
        }
      ],
      "metadata": {
        "id": "qGElhrPmpR0u",
        "outputId": "56764474-1a3e-4fe1-eeb7-ff00028e000e"
      }
    },
    {
      "cell_type": "code",
      "execution_count": 25,
      "source": [
        "learning_rate = tf.keras.callbacks.ReduceLROnPlateau(monitor='loss', min_delta=0.002, factor=0.1, patience=2) #0.001\r\n",
        "early_stop = tf.keras.callbacks.EarlyStopping(\r\n",
        "    monitor='loss', min_delta=0.002, patience=3, verbose=1,\r\n",
        "    mode='auto', baseline=None, restore_best_weights=False\r\n",
        ")"
      ],
      "outputs": [],
      "metadata": {
        "id": "XlXqhwHPpR0u"
      }
    },
    {
      "cell_type": "code",
      "execution_count": 26,
      "source": [
        "if isdir('./logs'):\r\n",
        "    rmtree('./logs')\r\n",
        "else:\r\n",
        "    print('LOGS DOES NOT EXIST')\r\n",
        "tbcb = tf.keras.callbacks.TensorBoard()"
      ],
      "outputs": [],
      "metadata": {
        "id": "DAhFBlMppR0v",
        "outputId": "ef2303b6-6000-49c0-ec47-d77860dfce20"
      }
    },
    {
      "cell_type": "code",
      "execution_count": 27,
      "source": [
        "model_train = model.fit(x_train, y_train, 256, 100, 1, callbacks=[learning_rate, early_stop, tbcb], validation_data=(x_valid, y_valid)).history # "
      ],
      "outputs": [
        {
          "output_type": "stream",
          "name": "stdout",
          "text": [
            "Epoch 1/100\n",
            "211/211 [==============================] - 61s 282ms/step - loss: 0.5195 - accuracy: 0.8124 - val_loss: 1.9418 - val_accuracy: 0.4203\n",
            "Epoch 2/100\n",
            "211/211 [==============================] - 59s 280ms/step - loss: 0.3683 - accuracy: 0.8659 - val_loss: 1.1466 - val_accuracy: 0.6310\n",
            "Epoch 3/100\n",
            "211/211 [==============================] - 59s 280ms/step - loss: 0.3228 - accuracy: 0.8806 - val_loss: 0.3628 - val_accuracy: 0.8657\n",
            "Epoch 4/100\n",
            "211/211 [==============================] - 59s 280ms/step - loss: 0.2998 - accuracy: 0.8907 - val_loss: 0.2975 - val_accuracy: 0.8893\n",
            "Epoch 5/100\n",
            "211/211 [==============================] - 59s 280ms/step - loss: 0.2779 - accuracy: 0.8985 - val_loss: 0.3372 - val_accuracy: 0.8738\n",
            "Epoch 6/100\n",
            "211/211 [==============================] - 59s 280ms/step - loss: 0.2622 - accuracy: 0.9031 - val_loss: 0.4585 - val_accuracy: 0.8585\n",
            "Epoch 7/100\n",
            "211/211 [==============================] - 59s 279ms/step - loss: 0.2544 - accuracy: 0.9059 - val_loss: 0.2833 - val_accuracy: 0.8980\n",
            "Epoch 8/100\n",
            "211/211 [==============================] - 59s 279ms/step - loss: 0.2416 - accuracy: 0.9104 - val_loss: 0.2774 - val_accuracy: 0.9030\n",
            "Epoch 9/100\n",
            "211/211 [==============================] - 59s 280ms/step - loss: 0.2363 - accuracy: 0.9131 - val_loss: 0.2946 - val_accuracy: 0.8955\n",
            "Epoch 10/100\n",
            "211/211 [==============================] - 59s 280ms/step - loss: 0.2280 - accuracy: 0.9162 - val_loss: 0.2651 - val_accuracy: 0.9068\n",
            "Epoch 11/100\n",
            "211/211 [==============================] - 59s 280ms/step - loss: 0.2189 - accuracy: 0.9185 - val_loss: 0.2901 - val_accuracy: 0.8932\n",
            "Epoch 12/100\n",
            "211/211 [==============================] - 59s 280ms/step - loss: 0.2125 - accuracy: 0.9214 - val_loss: 0.2341 - val_accuracy: 0.9138\n",
            "Epoch 13/100\n",
            "211/211 [==============================] - 59s 280ms/step - loss: 0.2085 - accuracy: 0.9216 - val_loss: 0.2986 - val_accuracy: 0.9028\n",
            "Epoch 14/100\n",
            "211/211 [==============================] - 59s 280ms/step - loss: 0.2002 - accuracy: 0.9268 - val_loss: 0.2586 - val_accuracy: 0.9145\n",
            "Epoch 15/100\n",
            "211/211 [==============================] - 59s 280ms/step - loss: 0.2001 - accuracy: 0.9252 - val_loss: 0.2516 - val_accuracy: 0.9090\n",
            "Epoch 16/100\n",
            "211/211 [==============================] - 59s 280ms/step - loss: 0.1899 - accuracy: 0.9299 - val_loss: 0.2606 - val_accuracy: 0.9105\n",
            "Epoch 17/100\n",
            "211/211 [==============================] - 59s 280ms/step - loss: 0.1866 - accuracy: 0.9314 - val_loss: 0.2465 - val_accuracy: 0.9147\n",
            "Epoch 18/100\n",
            "211/211 [==============================] - 59s 280ms/step - loss: 0.1852 - accuracy: 0.9310 - val_loss: 0.2654 - val_accuracy: 0.9068\n",
            "Epoch 19/100\n",
            "211/211 [==============================] - 59s 280ms/step - loss: 0.1795 - accuracy: 0.9332 - val_loss: 0.2515 - val_accuracy: 0.9133\n",
            "Epoch 20/100\n",
            "211/211 [==============================] - 59s 280ms/step - loss: 0.1748 - accuracy: 0.9354 - val_loss: 0.2827 - val_accuracy: 0.9002\n",
            "Epoch 21/100\n",
            "211/211 [==============================] - 59s 280ms/step - loss: 0.1724 - accuracy: 0.9361 - val_loss: 0.2338 - val_accuracy: 0.9220\n",
            "Epoch 22/100\n",
            "211/211 [==============================] - 59s 280ms/step - loss: 0.1695 - accuracy: 0.9372 - val_loss: 0.2487 - val_accuracy: 0.9152\n",
            "Epoch 23/100\n",
            "211/211 [==============================] - 59s 280ms/step - loss: 0.1641 - accuracy: 0.9388 - val_loss: 0.2535 - val_accuracy: 0.9172\n",
            "Epoch 24/100\n",
            "211/211 [==============================] - 59s 280ms/step - loss: 0.1605 - accuracy: 0.9406 - val_loss: 0.2385 - val_accuracy: 0.9187\n",
            "Epoch 25/100\n",
            "211/211 [==============================] - 59s 281ms/step - loss: 0.1581 - accuracy: 0.9409 - val_loss: 0.2548 - val_accuracy: 0.9145\n",
            "Epoch 26/100\n",
            "211/211 [==============================] - ETA: 0s - loss: 0.1571 - accuracy: 0.9416"
          ]
        }
      ],
      "metadata": {
        "id": "ciOGP8qApR0v",
        "outputId": "ccf71c0c-adc9-451a-ef94-d12e30f46dcc"
      }
    },
    {
      "cell_type": "code",
      "execution_count": null,
      "source": [
        "model.evaluate(x_test, y_test)"
      ],
      "outputs": [
        {
          "output_type": "stream",
          "name": "stdout",
          "text": [
            "313/313 [==============================] - 6s 18ms/step - loss: 0.3139 - accuracy: 0.9282\n"
          ]
        },
        {
          "output_type": "execute_result",
          "data": {
            "text/plain": [
              "[0.313870906829834, 0.9282000064849854]"
            ]
          },
          "metadata": {},
          "execution_count": 23
        }
      ],
      "metadata": {
        "id": "W-pj69VUpR0v",
        "outputId": "8ae47de8-d891-47e5-b0c8-cc2f15716e2f"
      }
    },
    {
      "cell_type": "code",
      "execution_count": null,
      "source": [
        "def plot_conv_weights(model, layer):\r\n",
        "    W = model.get_layer(name=layer).get_weights()[0]\r\n",
        "    if len(W.shape) == 4:\r\n",
        "        W = np.squeeze(W)\r\n",
        "        print(W.shape)\r\n",
        "        if len(W.shape) == 4:\r\n",
        "            W = W.reshape(W.shape[0], W.shape[1], W.shape[2] * W.shape[3]) \r\n",
        "        else:\r\n",
        "            W = W.reshape(W.shape[0], W.shape[1], W.shape[2]) \r\n",
        "        fig, axs = plt.subplots(1,15, figsize=(30,30))\r\n",
        "        # fig.subplots_adjust(hspace = .5, wspace=.001)\r\n",
        "        axs = axs.ravel()\r\n",
        "        for i in range(15):\r\n",
        "            axs[i].imshow(W[:,:,i], cmap='Greys_r')\r\n",
        "            axs[i].set_title(str(i))\r\n",
        "\r\n",
        "for layer in model.layers:\r\n",
        "    if 'conv' not in layer.name:\r\n",
        "        continue\r\n",
        "    else:\r\n",
        "        plot_conv_weights(model, layer.name)"
      ],
      "outputs": [
        {
          "output_type": "stream",
          "name": "stdout",
          "text": [
            "(7, 7, 64)\n",
            "(5, 5, 64, 128)\n",
            "(3, 3, 128, 128)\n",
            "(3, 3, 128, 128)\n"
          ]
        },
        {
          "output_type": "display_data",
          "data": {
            "text/plain": [
              "<Figure size 2160x2160 with 15 Axes>"
            ],
            "image/png": "[encoded data removed]"
          },
          "metadata": {}
        },
        {
          "output_type": "display_data",
          "data": {
            "text/plain": [
              "<Figure size 2160x2160 with 15 Axes>"
            ],
            "image/png": "[encoded data removed]"
          },
          "metadata": {}
        },
        {
          "output_type": "display_data",
          "data": {
            "text/plain": [
              "<Figure size 2160x2160 with 15 Axes>"
            ],
            "image/png": "[encoded data removed]"
          },
          "metadata": {}
        },
        {
          "output_type": "display_data",
          "data": {
            "text/plain": [
              "<Figure size 2160x2160 with 15 Axes>"
            ],
            "image/png": "[encoded data removed]"
          },
          "metadata": {}
        }
      ],
      "metadata": {
        "id": "D24p-f95pR0v",
        "outputId": "8345ad67-3e1e-4013-bd12-1d5255a3dfd6"
      }
    },
    {
      "cell_type": "code",
      "execution_count": null,
      "source": [
        "# plt.figure(figsize=[10,2])"
      ],
      "outputs": [],
      "metadata": {
        "id": "Mdg-nCiJpR0w"
      }
    },
    {
      "cell_type": "code",
      "execution_count": null,
      "source": [
        "acc = model_train['accuracy']\r\n",
        "val_acc = model_train['val_accuracy']\r\n",
        "loss = model_train['loss']\r\n",
        "val_loss = model_train['val_loss']\r\n",
        "epoch_count = range(len(acc))\r\n",
        "\r\n",
        "plt.plot(epoch_count, acc, 'b', label='Train acc')\r\n",
        "plt.plot(epoch_count, val_acc, 'g', label='Val acc')\r\n",
        "plt.title('ACCURACY')\r\n",
        "plt.legend()\r\n",
        "plt.figure()\r\n",
        "\r\n",
        "plt.plot(epoch_count, loss, 'b', label='Train loss')\r\n",
        "plt.plot(epoch_count, val_loss, 'g', label='Val loss')\r\n",
        "plt.title('LOSS')\r\n",
        "plt.legend()\r\n",
        "plt.figure()\r\n",
        "\r\n",
        "plt.show()"
      ],
      "outputs": [
        {
          "output_type": "display_data",
          "data": {
            "text/plain": [
              "<Figure size 432x288 with 1 Axes>"
            ],
            "image/png": "[encoded data removed]"
          },
          "metadata": {}
        },
        {
          "output_type": "display_data",
          "data": {
            "text/plain": [
              "<Figure size 432x288 with 1 Axes>"
            ],
            "image/png": "[encoded data removed]"
          },
          "metadata": {}
        },
        {
          "output_type": "display_data",
          "data": {
            "text/plain": [
              "<Figure size 432x288 with 0 Axes>"
            ]
          },
          "metadata": {}
        }
      ],
      "metadata": {
        "id": "nA-NA9PgpR0w",
        "outputId": "af371e34-3fac-488e-a665-c2eac4b1ef5f"
      }
    }
  ]
}