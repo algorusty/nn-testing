{
 "cells": [
  {
   "cell_type": "code",
   "execution_count": 1,
   "source": [
    "import numpy as np\r\n",
    "import matplotlib.pyplot as plt\r\n",
    "import tensorflow as tf\r\n",
    "import pandas as pd\r\n",
    "from shutil import rmtree\r\n",
    "from os.path import isdir\r\n",
    "from tensorflow.keras.layers.experimental import preprocessing\r\n",
    "from tensorflow.keras.models import Sequential, Model\r\n",
    "from tensorflow.keras.layers import Dense, Dropout, Flatten, Conv2D, MaxPooling2D, BatchNormalization, LeakyReLU\r\n",
    "from sklearn.model_selection import train_test_split"
   ],
   "outputs": [],
   "metadata": {}
  },
  {
   "cell_type": "code",
   "execution_count": 2,
   "source": [
    "%load_ext tensorboard"
   ],
   "outputs": [],
   "metadata": {}
  },
  {
   "cell_type": "code",
   "execution_count": 3,
   "source": [
    "(x_train_raw, y_train_raw), (x_test_raw, y_test_raw) = tf.keras.datasets.fashion_mnist.load_data()"
   ],
   "outputs": [],
   "metadata": {}
  },
  {
   "cell_type": "code",
   "execution_count": 4,
   "source": [
    "# plt.figure(figsize=[10,2])\r\n",
    "# f, ax = plt.subplots(1, 10, figsize=[20,5])\r\n",
    "# plt.imshow()\r\n",
    "# for i in range(0, 10):\r\n",
    "# \timage = np.reshape(x_train_raw[i], (28,28))\r\n",
    "# \tlabel = y_train_raw[i]\r\n",
    "# \tax[i].imshow(image)\r\n",
    "# \tax[i].set_title(label)\r\n",
    "\t# plt.figimage(image)\r\n",
    "# plt.show()\r\n"
   ],
   "outputs": [],
   "metadata": {}
  },
  {
   "cell_type": "code",
   "execution_count": 5,
   "source": [
    "pd.DataFrame(y_train_raw).describe()"
   ],
   "outputs": [
    {
     "output_type": "execute_result",
     "data": {
      "text/plain": [
       "                  0\n",
       "count  60000.000000\n",
       "mean       4.500000\n",
       "std        2.872305\n",
       "min        0.000000\n",
       "25%        2.000000\n",
       "50%        4.500000\n",
       "75%        7.000000\n",
       "max        9.000000"
      ],
      "text/html": [
       "<div>\n",
       "<style scoped>\n",
       "    .dataframe tbody tr th:only-of-type {\n",
       "        vertical-align: middle;\n",
       "    }\n",
       "\n",
       "    .dataframe tbody tr th {\n",
       "        vertical-align: top;\n",
       "    }\n",
       "\n",
       "    .dataframe thead th {\n",
       "        text-align: right;\n",
       "    }\n",
       "</style>\n",
       "<table border=\"1\" class=\"dataframe\">\n",
       "  <thead>\n",
       "    <tr style=\"text-align: right;\">\n",
       "      <th></th>\n",
       "      <th>0</th>\n",
       "    </tr>\n",
       "  </thead>\n",
       "  <tbody>\n",
       "    <tr>\n",
       "      <th>count</th>\n",
       "      <td>60000.000000</td>\n",
       "    </tr>\n",
       "    <tr>\n",
       "      <th>mean</th>\n",
       "      <td>4.500000</td>\n",
       "    </tr>\n",
       "    <tr>\n",
       "      <th>std</th>\n",
       "      <td>2.872305</td>\n",
       "    </tr>\n",
       "    <tr>\n",
       "      <th>min</th>\n",
       "      <td>0.000000</td>\n",
       "    </tr>\n",
       "    <tr>\n",
       "      <th>25%</th>\n",
       "      <td>2.000000</td>\n",
       "    </tr>\n",
       "    <tr>\n",
       "      <th>50%</th>\n",
       "      <td>4.500000</td>\n",
       "    </tr>\n",
       "    <tr>\n",
       "      <th>75%</th>\n",
       "      <td>7.000000</td>\n",
       "    </tr>\n",
       "    <tr>\n",
       "      <th>max</th>\n",
       "      <td>9.000000</td>\n",
       "    </tr>\n",
       "  </tbody>\n",
       "</table>\n",
       "</div>"
      ]
     },
     "metadata": {},
     "execution_count": 5
    }
   ],
   "metadata": {}
  },
  {
   "cell_type": "code",
   "execution_count": 6,
   "source": [
    "x_train = np.reshape(x_train_raw, (-1, 28, 28, 1))\r\n",
    "y_train = tf.one_hot(y_train_raw, 10).numpy()\r\n",
    "x_test = np.reshape(x_test_raw, (-1, 28, 28, 1))\r\n",
    "y_test = tf.one_hot(y_test_raw, 10).numpy()"
   ],
   "outputs": [],
   "metadata": {}
  },
  {
   "cell_type": "code",
   "execution_count": 7,
   "source": [
    "x_train, x_valid, y_train, y_valid = train_test_split(x_train, y_train, test_size=0.1, random_state=1)"
   ],
   "outputs": [],
   "metadata": {}
  },
  {
   "cell_type": "code",
   "execution_count": 8,
   "source": [
    "drop = 0.1"
   ],
   "outputs": [],
   "metadata": {}
  },
  {
   "cell_type": "code",
   "execution_count": 35,
   "source": [
    "model = None\r\n",
    "model = Sequential()\r\n",
    "\r\n",
    "model.add(preprocessing.Resizing(28, 28))\r\n",
    "model.add(preprocessing.Rescaling(1./255))\r\n",
    "\r\n",
    "# model.add(preprocessing.RandomFlip())\r\n",
    "model.add(preprocessing.RandomRotation(0.10))\r\n",
    "model.add(preprocessing.RandomContrast(0.05))\r\n",
    "model.add(preprocessing.RandomZoom(0.05, 0.05))\r\n",
    "\r\n",
    "model.add(Conv2D(64, 7, activation=LeakyReLU(), input_shape=(28, 28, 1), padding='same'))\r\n",
    "model.add(BatchNormalization())\r\n",
    "model.add(MaxPooling2D((2,2), padding='same'))\r\n",
    "model.add(Conv2D(128, 5, activation=LeakyReLU(), padding='same'))\r\n",
    "model.add(BatchNormalization())\r\n",
    "model.add(MaxPooling2D((2,2), padding='same'))\r\n",
    "model.add(Dropout(0.05))\r\n",
    "\r\n",
    "model.add(Conv2D(128, 3, activation=LeakyReLU(), padding='same'))\r\n",
    "model.add(BatchNormalization())\r\n",
    "# model.add(MaxPooling2D((2, 2), padding='same'))\r\n",
    "model.add(Conv2D(128, 3, activation=LeakyReLU(), padding='same'))\r\n",
    "model.add(BatchNormalization())\r\n",
    "model.add(MaxPooling2D((2, 2), padding='same'))\r\n",
    "model.add(Dropout(0.05))\r\n",
    "\r\n",
    "model.add(Flatten())\r\n",
    "model.add(Dense(256, LeakyReLU()))\r\n",
    "model.add(BatchNormalization())\r\n",
    "model.add(Dense(128, LeakyReLU()))\r\n",
    "model.add(BatchNormalization())\r\n",
    "model.add(Dense(64, LeakyReLU()))\r\n",
    "model.add(BatchNormalization())\r\n",
    "model.add(Dropout(0.20))\r\n",
    "\r\n",
    "model.add(Dense(10, 'softmax'))\r\n",
    "\r\n",
    "model.compile(tf.keras.optimizers.Adam(), tf.keras.losses.CategoricalCrossentropy(), 'accuracy')\r\n",
    "model.build(input_shape=(1, 28, 28, 1))\r\n",
    "model.summary()"
   ],
   "outputs": [
    {
     "output_type": "stream",
     "name": "stdout",
     "text": [
      "Model: \"sequential_4\"\n",
      "_________________________________________________________________\n",
      "Layer (type)                 Output Shape              Param #   \n",
      "=================================================================\n",
      "resizing_4 (Resizing)        (1, 28, 28, 1)            0         \n",
      "_________________________________________________________________\n",
      "rescaling_4 (Rescaling)      (1, 28, 28, 1)            0         \n",
      "_________________________________________________________________\n",
      "random_rotation_4 (RandomRot (1, 28, 28, 1)            0         \n",
      "_________________________________________________________________\n",
      "random_contrast_4 (RandomCon (1, 28, 28, 1)            0         \n",
      "_________________________________________________________________\n",
      "random_zoom_4 (RandomZoom)   (1, 28, 28, 1)            0         \n",
      "_________________________________________________________________\n",
      "conv2d_16 (Conv2D)           (1, 28, 28, 64)           3200      \n",
      "_________________________________________________________________\n",
      "batch_normalization_25 (Batc (1, 28, 28, 64)           256       \n",
      "_________________________________________________________________\n",
      "max_pooling2d_12 (MaxPooling (1, 14, 14, 64)           0         \n",
      "_________________________________________________________________\n",
      "conv2d_17 (Conv2D)           (1, 14, 14, 128)          204928    \n",
      "_________________________________________________________________\n",
      "batch_normalization_26 (Batc (1, 14, 14, 128)          512       \n",
      "_________________________________________________________________\n",
      "max_pooling2d_13 (MaxPooling (1, 7, 7, 128)            0         \n",
      "_________________________________________________________________\n",
      "dropout_12 (Dropout)         (1, 7, 7, 128)            0         \n",
      "_________________________________________________________________\n",
      "conv2d_18 (Conv2D)           (1, 7, 7, 128)            147584    \n",
      "_________________________________________________________________\n",
      "batch_normalization_27 (Batc (1, 7, 7, 128)            512       \n",
      "_________________________________________________________________\n",
      "conv2d_19 (Conv2D)           (1, 7, 7, 128)            147584    \n",
      "_________________________________________________________________\n",
      "batch_normalization_28 (Batc (1, 7, 7, 128)            512       \n",
      "_________________________________________________________________\n",
      "max_pooling2d_14 (MaxPooling (1, 4, 4, 128)            0         \n",
      "_________________________________________________________________\n",
      "dropout_13 (Dropout)         (1, 4, 4, 128)            0         \n",
      "_________________________________________________________________\n",
      "flatten_4 (Flatten)          (1, 2048)                 0         \n",
      "_________________________________________________________________\n",
      "dense_13 (Dense)             (1, 256)                  524544    \n",
      "_________________________________________________________________\n",
      "batch_normalization_29 (Batc (1, 256)                  1024      \n",
      "_________________________________________________________________\n",
      "dense_14 (Dense)             (1, 128)                  32896     \n",
      "_________________________________________________________________\n",
      "batch_normalization_30 (Batc (1, 128)                  512       \n",
      "_________________________________________________________________\n",
      "dense_15 (Dense)             (1, 64)                   8256      \n",
      "_________________________________________________________________\n",
      "batch_normalization_31 (Batc (1, 64)                   256       \n",
      "_________________________________________________________________\n",
      "dropout_14 (Dropout)         (1, 64)                   0         \n",
      "_________________________________________________________________\n",
      "dense_16 (Dense)             (1, 10)                   650       \n",
      "=================================================================\n",
      "Total params: 1,073,226\n",
      "Trainable params: 1,071,434\n",
      "Non-trainable params: 1,792\n",
      "_________________________________________________________________\n"
     ]
    }
   ],
   "metadata": {}
  },
  {
   "cell_type": "code",
   "execution_count": 36,
   "source": [
    "learning_rate = tf.keras.callbacks.ReduceLROnPlateau(monitor='loss', min_delta=0.002, factor=0.01, patience=2) #0.001\r\n",
    "early_stop = tf.keras.callbacks.EarlyStopping(\r\n",
    "    monitor='loss', min_delta=0.002, patience=3, verbose=1,\r\n",
    "    mode='auto', baseline=None, restore_best_weights=False\r\n",
    ")"
   ],
   "outputs": [],
   "metadata": {}
  },
  {
   "cell_type": "code",
   "execution_count": 40,
   "source": [
    "if isdir('./logs'):\r\n",
    "    rmtree('./logs')\r\n",
    "else:\r\n",
    "    print('LOGS DOES NOT EXIST')\r\n",
    "tbcb = tf.keras.callbacks.TensorBoard()"
   ],
   "outputs": [
    {
     "output_type": "stream",
     "name": "stdout",
     "text": [
      "LOGS DOES NOT EXIST\n"
     ]
    }
   ],
   "metadata": {}
  },
  {
   "cell_type": "code",
   "execution_count": 41,
   "source": [
    "model_train = model.fit(x_train, y_train, 256, 100, 1, callbacks=[learning_rate, early_stop, tbcb], validation_data=(x_valid, y_valid)).history # "
   ],
   "outputs": [
    {
     "output_type": "stream",
     "name": "stdout",
     "text": [
      "Epoch 1/100\n",
      "106/106 [==============================] - 29s 270ms/step - loss: 0.4834 - accuracy: 0.8246 - val_loss: 3.1212 - val_accuracy: 0.1880\n",
      "Epoch 2/100\n",
      "106/106 [==============================] - 28s 265ms/step - loss: 0.4105 - accuracy: 0.8507 - val_loss: 1.9475 - val_accuracy: 0.4362\n",
      "Epoch 3/100\n",
      "106/106 [==============================] - 28s 262ms/step - loss: 0.3758 - accuracy: 0.8626 - val_loss: 1.6021 - val_accuracy: 0.5768\n",
      "Epoch 4/100\n",
      "106/106 [==============================] - 28s 262ms/step - loss: 0.3466 - accuracy: 0.8728 - val_loss: 0.6368 - val_accuracy: 0.7710\n",
      "Epoch 5/100\n",
      "106/106 [==============================] - 28s 262ms/step - loss: 0.3287 - accuracy: 0.8809 - val_loss: 0.4719 - val_accuracy: 0.8340\n",
      "Epoch 6/100\n",
      "106/106 [==============================] - 28s 262ms/step - loss: 0.3139 - accuracy: 0.8850 - val_loss: 0.3545 - val_accuracy: 0.8670\n",
      "Epoch 7/100\n",
      "106/106 [==============================] - 28s 262ms/step - loss: 0.3051 - accuracy: 0.8872 - val_loss: 0.3162 - val_accuracy: 0.8833\n",
      "Epoch 8/100\n",
      "106/106 [==============================] - 28s 262ms/step - loss: 0.2939 - accuracy: 0.8909 - val_loss: 0.3365 - val_accuracy: 0.8813\n",
      "Epoch 9/100\n",
      "106/106 [==============================] - 28s 262ms/step - loss: 0.2875 - accuracy: 0.8950 - val_loss: 0.3093 - val_accuracy: 0.8920\n",
      "Epoch 10/100\n",
      "106/106 [==============================] - 28s 262ms/step - loss: 0.2779 - accuracy: 0.8958 - val_loss: 0.3161 - val_accuracy: 0.8885\n",
      "Epoch 11/100\n",
      "106/106 [==============================] - 28s 262ms/step - loss: 0.2695 - accuracy: 0.9011 - val_loss: 0.2802 - val_accuracy: 0.9022\n",
      "Epoch 12/100\n",
      "106/106 [==============================] - 28s 262ms/step - loss: 0.2628 - accuracy: 0.9021 - val_loss: 0.3189 - val_accuracy: 0.8932\n",
      "Epoch 13/100\n",
      "106/106 [==============================] - 28s 262ms/step - loss: 0.2565 - accuracy: 0.9061 - val_loss: 0.3727 - val_accuracy: 0.8702\n",
      "Epoch 14/100\n",
      "106/106 [==============================] - 28s 263ms/step - loss: 0.2512 - accuracy: 0.9074 - val_loss: 0.2679 - val_accuracy: 0.9065\n",
      "Epoch 15/100\n",
      "106/106 [==============================] - 28s 262ms/step - loss: 0.2471 - accuracy: 0.9084 - val_loss: 0.3635 - val_accuracy: 0.8690\n",
      "Epoch 16/100\n",
      "106/106 [==============================] - 28s 263ms/step - loss: 0.2419 - accuracy: 0.9105 - val_loss: 0.2840 - val_accuracy: 0.9015\n",
      "Epoch 17/100\n",
      "106/106 [==============================] - 28s 262ms/step - loss: 0.2371 - accuracy: 0.9136 - val_loss: 0.3780 - val_accuracy: 0.8720\n",
      "Epoch 18/100\n",
      "106/106 [==============================] - 28s 262ms/step - loss: 0.2360 - accuracy: 0.9132 - val_loss: 0.3610 - val_accuracy: 0.8802\n",
      "Epoch 19/100\n",
      "106/106 [==============================] - 28s 262ms/step - loss: 0.2300 - accuracy: 0.9145 - val_loss: 0.2907 - val_accuracy: 0.8945\n",
      "Epoch 20/100\n",
      "106/106 [==============================] - 28s 262ms/step - loss: 0.2281 - accuracy: 0.9155 - val_loss: 0.3191 - val_accuracy: 0.8927\n",
      "Epoch 21/100\n",
      "106/106 [==============================] - 28s 262ms/step - loss: 0.2234 - accuracy: 0.9172 - val_loss: 0.2542 - val_accuracy: 0.9115\n",
      "Epoch 22/100\n",
      "106/106 [==============================] - 28s 263ms/step - loss: 0.2174 - accuracy: 0.9191 - val_loss: 0.3365 - val_accuracy: 0.8813\n",
      "Epoch 23/100\n",
      "106/106 [==============================] - 28s 262ms/step - loss: 0.2185 - accuracy: 0.9194 - val_loss: 0.3634 - val_accuracy: 0.8795\n",
      "Epoch 24/100\n",
      "106/106 [==============================] - 28s 262ms/step - loss: 0.2145 - accuracy: 0.9208 - val_loss: 0.2972 - val_accuracy: 0.8935\n",
      "Epoch 25/100\n",
      "106/106 [==============================] - 28s 262ms/step - loss: 0.2114 - accuracy: 0.9217 - val_loss: 0.2632 - val_accuracy: 0.9112\n",
      "Epoch 26/100\n",
      "106/106 [==============================] - 28s 262ms/step - loss: 0.2111 - accuracy: 0.9228 - val_loss: 0.2737 - val_accuracy: 0.9027\n",
      "Epoch 27/100\n",
      "106/106 [==============================] - 28s 262ms/step - loss: 0.2045 - accuracy: 0.9243 - val_loss: 0.2972 - val_accuracy: 0.9053\n",
      "Epoch 28/100\n",
      "106/106 [==============================] - 28s 262ms/step - loss: 0.2039 - accuracy: 0.9245 - val_loss: 0.3226 - val_accuracy: 0.8953\n",
      "Epoch 29/100\n",
      "106/106 [==============================] - 28s 262ms/step - loss: 0.2028 - accuracy: 0.9253 - val_loss: 0.2376 - val_accuracy: 0.9173\n",
      "Epoch 30/100\n",
      "106/106 [==============================] - 28s 262ms/step - loss: 0.1773 - accuracy: 0.9341 - val_loss: 0.2219 - val_accuracy: 0.9225\n",
      "Epoch 31/100\n",
      "106/106 [==============================] - 28s 262ms/step - loss: 0.1754 - accuracy: 0.9357 - val_loss: 0.2177 - val_accuracy: 0.9253\n",
      "Epoch 32/100\n",
      "106/106 [==============================] - 28s 263ms/step - loss: 0.1733 - accuracy: 0.9363 - val_loss: 0.2157 - val_accuracy: 0.9255\n",
      "Epoch 33/100\n",
      "106/106 [==============================] - 28s 262ms/step - loss: 0.1694 - accuracy: 0.9375 - val_loss: 0.2158 - val_accuracy: 0.9260\n",
      "Epoch 34/100\n",
      "106/106 [==============================] - 28s 262ms/step - loss: 0.1675 - accuracy: 0.9380 - val_loss: 0.2143 - val_accuracy: 0.9258\n",
      "Epoch 35/100\n",
      "106/106 [==============================] - 28s 262ms/step - loss: 0.1661 - accuracy: 0.9391 - val_loss: 0.2139 - val_accuracy: 0.9260\n",
      "Epoch 36/100\n",
      "106/106 [==============================] - 28s 262ms/step - loss: 0.1639 - accuracy: 0.9386 - val_loss: 0.2143 - val_accuracy: 0.9258\n",
      "Epoch 37/100\n",
      "106/106 [==============================] - 28s 262ms/step - loss: 0.1647 - accuracy: 0.9398 - val_loss: 0.2134 - val_accuracy: 0.9258\n",
      "Epoch 38/100\n",
      "106/106 [==============================] - 28s 262ms/step - loss: 0.1628 - accuracy: 0.9387 - val_loss: 0.2130 - val_accuracy: 0.9253\n",
      "Epoch 39/100\n",
      "106/106 [==============================] - 28s 262ms/step - loss: 0.1649 - accuracy: 0.9386 - val_loss: 0.2130 - val_accuracy: 0.9262\n",
      "Epoch 00039: early stopping\n"
     ]
    }
   ],
   "metadata": {}
  },
  {
   "cell_type": "code",
   "execution_count": 46,
   "source": [
    "model.evaluate(x_test, y_test)"
   ],
   "outputs": [
    {
     "output_type": "stream",
     "name": "stdout",
     "text": [
      "313/313 [==============================] - 3s 11ms/step - loss: 0.2291 - accuracy: 0.9185\n"
     ]
    },
    {
     "output_type": "execute_result",
     "data": {
      "text/plain": [
       "[0.22913183271884918, 0.9185000061988831]"
      ]
     },
     "metadata": {},
     "execution_count": 46
    }
   ],
   "metadata": {}
  },
  {
   "cell_type": "code",
   "execution_count": 47,
   "source": [
    "def plot_conv_weights(model, layer):\r\n",
    "    W = model.get_layer(name=layer).get_weights()[0]\r\n",
    "    if len(W.shape) == 4:\r\n",
    "        W = np.squeeze(W)\r\n",
    "        print(W.shape)\r\n",
    "        if len(W.shape) == 4:\r\n",
    "            W = W.reshape(W.shape[0], W.shape[1], W.shape[2] * W.shape[3]) \r\n",
    "        else:\r\n",
    "            W = W.reshape(W.shape[0], W.shape[1], W.shape[2]) \r\n",
    "        fig, axs = plt.subplots(1,15, figsize=(30,30))\r\n",
    "        # fig.subplots_adjust(hspace = .5, wspace=.001)\r\n",
    "        axs = axs.ravel()\r\n",
    "        for i in range(15):\r\n",
    "            axs[i].imshow(W[:,:,i], cmap='Greys_r')\r\n",
    "            axs[i].set_title(str(i))\r\n",
    "\r\n",
    "for layer in model.layers:\r\n",
    "    if 'conv' not in layer.name:\r\n",
    "        continue\r\n",
    "    else:\r\n",
    "        plot_conv_weights(model, layer.name)"
   ],
   "outputs": [
    {
     "output_type": "stream",
     "name": "stdout",
     "text": [
      "(7, 7, 64)\n",
      "(5, 5, 64, 128)\n",
      "(3, 3, 128, 128)\n",
      "(3, 3, 128, 128)\n"
     ]
    },
    {
     "output_type": "display_data",
     "data": {
      "text/plain": [
       "<Figure size 2160x2160 with 15 Axes>"
      ],
      "image/png": "[encoded data removed]"
     },
     "metadata": {}
    },
    {
     "output_type": "display_data",
     "data": {
      "text/plain": [
       "<Figure size 2160x2160 with 15 Axes>"
      ],
      "image/png": "[encoded data removed]"
     },
     "metadata": {}
    },
    {
     "output_type": "display_data",
     "data": {
      "text/plain": [
       "<Figure size 2160x2160 with 15 Axes>"
      ],
      "image/png": "[encoded data removed]"
     },
     "metadata": {}
    },
    {
     "output_type": "display_data",
     "data": {
      "text/plain": [
       "<Figure size 2160x2160 with 15 Axes>"
      ],
      "image/png": "[encoded data removed]"
     },
     "metadata": {}
    }
   ],
   "metadata": {}
  },
  {
   "cell_type": "code",
   "execution_count": 48,
   "source": [
    "# plt.figure(figsize=[10,2])\r\n"
   ],
   "outputs": [],
   "metadata": {}
  },
  {
   "cell_type": "code",
   "execution_count": 49,
   "source": [
    "acc = model_train['accuracy']\r\n",
    "val_acc = model_train['val_accuracy']\r\n",
    "loss = model_train['loss']\r\n",
    "val_loss = model_train['val_loss']\r\n",
    "epoch_count = range(len(acc))\r\n",
    "\r\n",
    "plt.plot(epoch_count, acc, 'b', label='Train acc')\r\n",
    "plt.plot(epoch_count, val_acc, 'g', label='Val acc')\r\n",
    "plt.title('ACCURACY')\r\n",
    "plt.legend()\r\n",
    "plt.figure()\r\n",
    "\r\n",
    "plt.plot(epoch_count, loss, 'b', label='Train loss')\r\n",
    "plt.plot(epoch_count, val_loss, 'g', label='Val loss')\r\n",
    "plt.title('LOSS')\r\n",
    "plt.legend()\r\n",
    "plt.figure()\r\n",
    "\r\n",
    "plt.show()"
   ],
   "outputs": [
    {
     "output_type": "display_data",
     "data": {
      "text/plain": [
       "<Figure size 432x288 with 1 Axes>"
      ],
      "image/png": "[encoded data removed]"
     },
     "metadata": {}
    },
    {
     "output_type": "display_data",
     "data": {
      "text/plain": [
       "<Figure size 432x288 with 1 Axes>"
      ],
      "image/png": "[encoded data removed]"
     },
     "metadata": {}
    },
    {
     "output_type": "display_data",
     "data": {
      "text/plain": [
       "<Figure size 432x288 with 0 Axes>"
      ]
     },
     "metadata": {}
    }
   ],
   "metadata": {}
  }
 ],
 "metadata": {
  "orig_nbformat": 4,
  "language_info": {
   "name": "python",
   "version": "3.8.3",
   "mimetype": "text/x-python",
   "codemirror_mode": {
    "name": "ipython",
    "version": 3
   },
   "pygments_lexer": "ipython3",
   "nbconvert_exporter": "python",
   "file_extension": ".py"
  },
  "kernelspec": {
   "name": "python3",
   "display_name": "Python 3.8.3 64-bit"
  },
  "interpreter": {
   "hash": "1baa965d5efe3ac65b79dfc60c0d706280b1da80fedb7760faf2759126c4f253"
  }
 },
 "nbformat": 4,
 "nbformat_minor": 2
}