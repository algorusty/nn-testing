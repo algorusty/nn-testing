{
  "nbformat": 4,
  "nbformat_minor": 2,
  "metadata": {
    "colab": {
      "name": "cifar10.ipynb",
      "provenance": [],
      "authorship_tag": "ABX9TyP/X3h4cXU+75ZVM0Xz8BjQ",
      "include_colab_link": true
    },
    "kernelspec": {
      "name": "python3",
      "display_name": "Python 3.8.3 64-bit"
    },
    "language_info": {
      "name": "python",
      "version": "3.8.3",
      "mimetype": "text/x-python",
      "codemirror_mode": {
        "name": "ipython",
        "version": 3
      },
      "pygments_lexer": "ipython3",
      "nbconvert_exporter": "python",
      "file_extension": ".py"
    },
    "accelerator": "GPU",
    "interpreter": {
      "hash": "1baa965d5efe3ac65b79dfc60c0d706280b1da80fedb7760faf2759126c4f253"
    }
  },
  "cells": [
    {
      "cell_type": "markdown",
      "source": [
        "<a href=\"https://colab.research.google.com/github/mgdante/nn-testing/blob/master/cifar10.ipynb\" target=\"_parent\"><img src=\"https://colab.research.google.com/assets/colab-badge.svg\" alt=\"Open In Colab\"/></a>"
      ],
      "metadata": {
        "id": "view-in-github",
        "colab_type": "text"
      }
    },
    {
      "cell_type": "code",
      "execution_count": 1,
      "source": [
        "import numpy as np\r\n",
        "import matplotlib.pyplot as plt\r\n",
        "import tensorflow as tf\r\n",
        "import pandas as pd\r\n",
        "from shutil import rmtree\r\n",
        "from os.path import isdir\r\n",
        "from tensorflow.keras.layers.experimental import preprocessing\r\n",
        "from tensorflow.keras.models import Sequential, Model\r\n",
        "from tensorflow.keras.layers import Dense, Dropout, Flatten, Conv2D, MaxPooling2D, BatchNormalization, LeakyReLU\r\n",
        "from sklearn.model_selection import train_test_split\r\n",
        "import capslayer as cl"
      ],
      "outputs": [],
      "metadata": {
        "id": "RYxdyJaEtpIe"
      }
    },
    {
      "cell_type": "code",
      "execution_count": 11,
      "source": [
        "%load_ext tensorboard"
      ],
      "outputs": [
        {
          "output_type": "stream",
          "name": "stdout",
          "text": [
            "The tensorboard extension is already loaded. To reload it, use:\n",
            "  %reload_ext tensorboard\n"
          ]
        }
      ],
      "metadata": {
        "id": "mlaViZd1pR0s"
      }
    },
    {
      "cell_type": "code",
      "execution_count": 2,
      "source": [
        "(x_train, y_train_raw), (x_test, y_test_raw) = tf.keras.datasets.cifar10.load_data()\r\n",
        "# y_train_raw = [x[0] for x in y_train_raw]"
      ],
      "outputs": [],
      "metadata": {
        "id": "NPJZVeFPpR0t",
        "colab": {
          "base_uri": "https://localhost:8080/"
        },
        "outputId": "99f428ef-910a-4250-c898-9561323fc071"
      }
    },
    {
      "cell_type": "code",
      "execution_count": 3,
      "source": [
        "y_train_raw.shape"
      ],
      "outputs": [
        {
          "output_type": "execute_result",
          "data": {
            "text/plain": [
              "(50000, 1)"
            ]
          },
          "metadata": {},
          "execution_count": 3
        }
      ],
      "metadata": {}
    },
    {
      "cell_type": "code",
      "execution_count": 4,
      "source": [
        "# x_train = tf.reshape(x_train_raw, [-1, 32, 32, 3]).numpy()\r\n",
        "y_train_raw = tf.reshape(y_train_raw, [-1])\r\n",
        "y_train = tf.one_hot(y_train_raw, 10).numpy()\r\n",
        "# x_test = tf.reshape(x_test_raw, [-1, 32, 32, 3]).numpy()\r\n",
        "y_test_raw = tf.reshape(y_test_raw, [-1])\r\n",
        "y_test = tf.one_hot(y_test_raw, 10).numpy()"
      ],
      "outputs": [],
      "metadata": {
        "id": "Izm0ab5TpR0t"
      }
    },
    {
      "cell_type": "code",
      "execution_count": 5,
      "source": [
        "x_train, x_valid, y_train, y_valid = train_test_split(x_train, y_train, test_size=0.1, random_state=1)"
      ],
      "outputs": [],
      "metadata": {
        "id": "Hb8gvnpypR0u"
      }
    },
    {
      "cell_type": "code",
      "execution_count": 6,
      "source": [
        "model = None\r\n",
        "model = Sequential()\r\n",
        "\r\n",
        "model.add(preprocessing.Resizing(32, 32))\r\n",
        "model.add(preprocessing.Rescaling(1./255))\r\n",
        "\r\n",
        "model.add(preprocessing.RandomFlip('horizontal'))\r\n",
        "model.add(preprocessing.RandomRotation(0.10))\r\n",
        "model.add(preprocessing.RandomContrast(0.10))\r\n",
        "model.add(preprocessing.RandomZoom(0.10, 0.10))\r\n",
        "# LeakyReLU()\r\n",
        "act = LeakyReLU()\r\n",
        "model.add(Conv2D(128, 7, activation=act, input_shape=(32, 32, 3), padding='same'))\r\n",
        "model.add(BatchNormalization())\r\n",
        "model.add(MaxPooling2D((2,2), padding='same'))\r\n",
        "model.add(Conv2D(128, 5, activation=act, padding='same'))\r\n",
        "model.add(BatchNormalization())\r\n",
        "model.add(MaxPooling2D((2,2), padding='same'))\r\n",
        "# model.add(Dropout(0.05))\r\n",
        "\r\n",
        "model.add(Conv2D(128, 3, activation=act, padding='same'))\r\n",
        "model.add(BatchNormalization())\r\n",
        "model.add(MaxPooling2D((2, 2), padding='same'))\r\n",
        "\r\n",
        "# model.add(BatchNormalization())\r\n",
        "# model.add(MaxPooling2D((2, 2), padding='same'))\r\n",
        "# model.add(Dropout(0.05))\r\n",
        "\r\n",
        "model.add(Flatten())\r\n",
        "model.add(Dense(256, act))\r\n",
        "model.add(BatchNormalization())\r\n",
        "model.add(Dense(128, act))\r\n",
        "model.add(BatchNormalization())\r\n",
        "model.add(Dense(64, act))\r\n",
        "model.add(BatchNormalization())\r\n",
        "# model.add(Dropout(0.20))\r\n",
        "\r\n",
        "model.add(Dense(10, 'softmax'))\r\n",
        "\r\n",
        "model.compile(tf.keras.optimizers.Adam(), tf.keras.losses.CategoricalCrossentropy(), 'accuracy')\r\n",
        "model.build(input_shape=(1, 32, 32, 3))\r\n",
        "model.summary()"
      ],
      "outputs": [
        {
          "output_type": "stream",
          "name": "stdout",
          "text": [
            "Model: \"sequential\"\n",
            "_________________________________________________________________\n",
            "Layer (type)                 Output Shape              Param #   \n",
            "=================================================================\n",
            "resizing (Resizing)          (1, 32, 32, 3)            0         \n",
            "_________________________________________________________________\n",
            "rescaling (Rescaling)        (1, 32, 32, 3)            0         \n",
            "_________________________________________________________________\n",
            "random_flip (RandomFlip)     (1, 32, 32, 3)            0         \n",
            "_________________________________________________________________\n",
            "random_rotation (RandomRotat (1, 32, 32, 3)            0         \n",
            "_________________________________________________________________\n",
            "random_contrast (RandomContr (1, 32, 32, 3)            0         \n",
            "_________________________________________________________________\n",
            "random_zoom (RandomZoom)     (1, 32, 32, 3)            0         \n",
            "_________________________________________________________________\n",
            "conv2d (Conv2D)              (1, 32, 32, 128)          18944     \n",
            "_________________________________________________________________\n",
            "batch_normalization (BatchNo (1, 32, 32, 128)          512       \n",
            "_________________________________________________________________\n",
            "max_pooling2d (MaxPooling2D) (1, 16, 16, 128)          0         \n",
            "_________________________________________________________________\n",
            "conv2d_1 (Conv2D)            (1, 16, 16, 128)          409728    \n",
            "_________________________________________________________________\n",
            "batch_normalization_1 (Batch (1, 16, 16, 128)          512       \n",
            "_________________________________________________________________\n",
            "max_pooling2d_1 (MaxPooling2 (1, 8, 8, 128)            0         \n",
            "_________________________________________________________________\n",
            "conv2d_2 (Conv2D)            (1, 8, 8, 128)            147584    \n",
            "_________________________________________________________________\n",
            "batch_normalization_2 (Batch (1, 8, 8, 128)            512       \n",
            "_________________________________________________________________\n",
            "max_pooling2d_2 (MaxPooling2 (1, 4, 4, 128)            0         \n",
            "_________________________________________________________________\n",
            "flatten (Flatten)            (1, 2048)                 0         \n",
            "_________________________________________________________________\n",
            "dense (Dense)                (1, 256)                  524544    \n",
            "_________________________________________________________________\n",
            "batch_normalization_3 (Batch (1, 256)                  1024      \n",
            "_________________________________________________________________\n",
            "dense_1 (Dense)              (1, 128)                  32896     \n",
            "_________________________________________________________________\n",
            "batch_normalization_4 (Batch (1, 128)                  512       \n",
            "_________________________________________________________________\n",
            "dense_2 (Dense)              (1, 64)                   8256      \n",
            "_________________________________________________________________\n",
            "batch_normalization_5 (Batch (1, 64)                   256       \n",
            "_________________________________________________________________\n",
            "dense_3 (Dense)              (1, 10)                   650       \n",
            "=================================================================\n",
            "Total params: 1,145,930\n",
            "Trainable params: 1,144,266\n",
            "Non-trainable params: 1,664\n",
            "_________________________________________________________________\n"
          ]
        }
      ],
      "metadata": {
        "id": "qGElhrPmpR0u",
        "colab": {
          "base_uri": "https://localhost:8080/",
          "height": 231
        },
        "outputId": "d26a754e-363d-49c9-8f1e-50786e1dcb98"
      }
    },
    {
      "cell_type": "code",
      "execution_count": 7,
      "source": [
        "learning_rate = tf.keras.callbacks.ReduceLROnPlateau(monitor='loss', min_delta=0.002, factor=0.6, patience=2) #0.001\r\n",
        "early_stop = tf.keras.callbacks.EarlyStopping(\r\n",
        "    monitor='loss', min_delta=0.002, patience=3, verbose=1,\r\n",
        "    mode='auto', baseline=None, restore_best_weights=False\r\n",
        ")"
      ],
      "outputs": [],
      "metadata": {
        "id": "XlXqhwHPpR0u"
      }
    },
    {
      "cell_type": "code",
      "execution_count": 8,
      "source": [
        "from time import sleep\r\n",
        "\r\n",
        "if isdir('./logs'):\r\n",
        "    rmtree('./logs')\r\n",
        "    sleep(2)\r\n",
        "    if isdir('./logs'):\r\n",
        "        print('TB LOGS DELETED')\r\n",
        "    elif isdir('./logs'):\r\n",
        "        print('RETRYING...')\r\n",
        "        rmtree('./logs')\r\n",
        "        sleep(2)\r\n",
        "        if isdir('./logs'):\r\n",
        "            print('TB LOGS DELETED')\r\n",
        "        else:\r\n",
        "            print('DELETE FAILED')\r\n",
        "else:\r\n",
        "    print('TB LOGS DOES NOT EXIST')\r\n",
        "tbcb = tf.keras.callbacks.TensorBoard()"
      ],
      "outputs": [
        {
          "output_type": "stream",
          "name": "stdout",
          "text": [
            "TB LOGS DOES NOT EXIST\n"
          ]
        }
      ],
      "metadata": {
        "id": "DAhFBlMppR0v"
      }
    },
    {
      "cell_type": "code",
      "execution_count": 9,
      "source": [
        "gpu_info = !nvidia-smi\r\n",
        "gpu_info = '\\n'.join(gpu_info)\r\n",
        "if gpu_info.find('failed') >= 0:\r\n",
        "  print('Not connected to a GPU')\r\n",
        "else:\r\n",
        "  print(gpu_info)"
      ],
      "outputs": [
        {
          "output_type": "stream",
          "name": "stdout",
          "text": [
            "Thu Sep 16 05:55:57 2021       \n",
            "+-----------------------------------------------------------------------------+\n",
            "| NVIDIA-SMI 471.41       Driver Version: 471.41       CUDA Version: 11.4     |\n",
            "|-------------------------------+----------------------+----------------------+\n",
            "| GPU  Name            TCC/WDDM | Bus-Id        Disp.A | Volatile Uncorr. ECC |\n",
            "| Fan  Temp  Perf  Pwr:Usage/Cap|         Memory-Usage | GPU-Util  Compute M. |\n",
            "|                               |                      |               MIG M. |\n",
            "|===============================+======================+======================|\n",
            "|   0  Quadro P520        WDDM  | 00000000:6C:00.0 Off |                  N/A |\n",
            "| N/A   50C    P0    N/A /  N/A |   2992MiB /  4096MiB |      0%      Default |\n",
            "|                               |                      |                  N/A |\n",
            "+-------------------------------+----------------------+----------------------+\n",
            "                                                                               \n",
            "+-----------------------------------------------------------------------------+\n",
            "| Processes:                                                                  |\n",
            "|  GPU   GI   CI        PID   Type   Process name                  GPU Memory |\n",
            "|        ID   ID                                                   Usage      |\n",
            "|=============================================================================|\n",
            "|    0   N/A  N/A     25336      C   ...Files\\Python38\\python.exe    N/A      |\n",
            "+-----------------------------------------------------------------------------+\n"
          ]
        }
      ],
      "metadata": {
        "id": "6HvETIQ98JVM",
        "colab": {
          "base_uri": "https://localhost:8080/"
        },
        "outputId": "70969f53-0a1e-4f93-df0a-560161790f72"
      }
    },
    {
      "cell_type": "code",
      "execution_count": null,
      "source": [
        "model.load_weights('./cifar10')"
      ],
      "outputs": [],
      "metadata": {}
    },
    {
      "cell_type": "code",
      "execution_count": 11,
      "source": [
        "model_train = model.fit(x_train, y_train, 256, 100, 1, callbacks=[learning_rate, early_stop, tbcb], validation_data=(x_valid, y_valid)).history\r\n",
        "model.save_weights('./cifar10')"
      ],
      "outputs": [
        {
          "output_type": "stream",
          "name": "stdout",
          "text": [
            "Epoch 1/100\n",
            "176/176 [==============================] - 56s 246ms/step - loss: 1.5364 - accuracy: 0.4527 - val_loss: 4.2318 - val_accuracy: 0.1308\n",
            "Epoch 2/100\n",
            "176/176 [==============================] - 41s 233ms/step - loss: 1.2618 - accuracy: 0.5543 - val_loss: 2.6504 - val_accuracy: 0.2500\n",
            "Epoch 3/100\n",
            "172/176 [============================>.] - ETA: 0s - loss: 1.1341 - accuracy: 0.5961"
          ]
        },
        {
          "output_type": "error",
          "ename": "KeyboardInterrupt",
          "evalue": "",
          "traceback": [
            "\u001b[1;31m---------------------------------------------------------------------------\u001b[0m",
            "\u001b[1;31mKeyboardInterrupt\u001b[0m                         Traceback (most recent call last)",
            "\u001b[1;32m~\\AppData\\Local\\Temp/ipykernel_25336/1090620477.py\u001b[0m in \u001b[0;36m<module>\u001b[1;34m\u001b[0m\n\u001b[1;32m----> 1\u001b[1;33m \u001b[0mmodel_train\u001b[0m \u001b[1;33m=\u001b[0m \u001b[0mmodel\u001b[0m\u001b[1;33m.\u001b[0m\u001b[0mfit\u001b[0m\u001b[1;33m(\u001b[0m\u001b[0mx_train\u001b[0m\u001b[1;33m,\u001b[0m \u001b[0my_train\u001b[0m\u001b[1;33m,\u001b[0m \u001b[1;36m256\u001b[0m\u001b[1;33m,\u001b[0m \u001b[1;36m100\u001b[0m\u001b[1;33m,\u001b[0m \u001b[1;36m1\u001b[0m\u001b[1;33m,\u001b[0m \u001b[0mcallbacks\u001b[0m\u001b[1;33m=\u001b[0m\u001b[1;33m[\u001b[0m\u001b[0mlearning_rate\u001b[0m\u001b[1;33m,\u001b[0m \u001b[0mearly_stop\u001b[0m\u001b[1;33m,\u001b[0m \u001b[0mtbcb\u001b[0m\u001b[1;33m]\u001b[0m\u001b[1;33m,\u001b[0m \u001b[0mvalidation_data\u001b[0m\u001b[1;33m=\u001b[0m\u001b[1;33m(\u001b[0m\u001b[0mx_valid\u001b[0m\u001b[1;33m,\u001b[0m \u001b[0my_valid\u001b[0m\u001b[1;33m)\u001b[0m\u001b[1;33m)\u001b[0m\u001b[1;33m.\u001b[0m\u001b[0mhistory\u001b[0m\u001b[1;33m\u001b[0m\u001b[1;33m\u001b[0m\u001b[0m\n\u001b[0m\u001b[0;32m      2\u001b[0m \u001b[0mmodel\u001b[0m\u001b[1;33m.\u001b[0m\u001b[0msave_weights\u001b[0m\u001b[1;33m(\u001b[0m\u001b[1;34m'./cifar10'\u001b[0m\u001b[1;33m)\u001b[0m\u001b[1;33m\u001b[0m\u001b[1;33m\u001b[0m\u001b[0m\n",
            "\u001b[1;32m~\\AppData\\Roaming\\Python\\Python38\\site-packages\\keras\\engine\\training.py\u001b[0m in \u001b[0;36mfit\u001b[1;34m(self, x, y, batch_size, epochs, verbose, callbacks, validation_split, validation_data, shuffle, class_weight, sample_weight, initial_epoch, steps_per_epoch, validation_steps, validation_batch_size, validation_freq, max_queue_size, workers, use_multiprocessing)\u001b[0m\n\u001b[0;32m   1182\u001b[0m                 _r=1):\n\u001b[0;32m   1183\u001b[0m               \u001b[0mcallbacks\u001b[0m\u001b[1;33m.\u001b[0m\u001b[0mon_train_batch_begin\u001b[0m\u001b[1;33m(\u001b[0m\u001b[0mstep\u001b[0m\u001b[1;33m)\u001b[0m\u001b[1;33m\u001b[0m\u001b[1;33m\u001b[0m\u001b[0m\n\u001b[1;32m-> 1184\u001b[1;33m               \u001b[0mtmp_logs\u001b[0m \u001b[1;33m=\u001b[0m \u001b[0mself\u001b[0m\u001b[1;33m.\u001b[0m\u001b[0mtrain_function\u001b[0m\u001b[1;33m(\u001b[0m\u001b[0miterator\u001b[0m\u001b[1;33m)\u001b[0m\u001b[1;33m\u001b[0m\u001b[1;33m\u001b[0m\u001b[0m\n\u001b[0m\u001b[0;32m   1185\u001b[0m               \u001b[1;32mif\u001b[0m \u001b[0mdata_handler\u001b[0m\u001b[1;33m.\u001b[0m\u001b[0mshould_sync\u001b[0m\u001b[1;33m:\u001b[0m\u001b[1;33m\u001b[0m\u001b[1;33m\u001b[0m\u001b[0m\n\u001b[0;32m   1186\u001b[0m                 \u001b[0mcontext\u001b[0m\u001b[1;33m.\u001b[0m\u001b[0masync_wait\u001b[0m\u001b[1;33m(\u001b[0m\u001b[1;33m)\u001b[0m\u001b[1;33m\u001b[0m\u001b[1;33m\u001b[0m\u001b[0m\n",
            "\u001b[1;32m~\\AppData\\Roaming\\Python\\Python38\\site-packages\\tensorflow\\python\\eager\\def_function.py\u001b[0m in \u001b[0;36m__call__\u001b[1;34m(self, *args, **kwds)\u001b[0m\n\u001b[0;32m    883\u001b[0m \u001b[1;33m\u001b[0m\u001b[0m\n\u001b[0;32m    884\u001b[0m       \u001b[1;32mwith\u001b[0m \u001b[0mOptionalXlaContext\u001b[0m\u001b[1;33m(\u001b[0m\u001b[0mself\u001b[0m\u001b[1;33m.\u001b[0m\u001b[0m_jit_compile\u001b[0m\u001b[1;33m)\u001b[0m\u001b[1;33m:\u001b[0m\u001b[1;33m\u001b[0m\u001b[1;33m\u001b[0m\u001b[0m\n\u001b[1;32m--> 885\u001b[1;33m         \u001b[0mresult\u001b[0m \u001b[1;33m=\u001b[0m \u001b[0mself\u001b[0m\u001b[1;33m.\u001b[0m\u001b[0m_call\u001b[0m\u001b[1;33m(\u001b[0m\u001b[1;33m*\u001b[0m\u001b[0margs\u001b[0m\u001b[1;33m,\u001b[0m \u001b[1;33m**\u001b[0m\u001b[0mkwds\u001b[0m\u001b[1;33m)\u001b[0m\u001b[1;33m\u001b[0m\u001b[1;33m\u001b[0m\u001b[0m\n\u001b[0m\u001b[0;32m    886\u001b[0m \u001b[1;33m\u001b[0m\u001b[0m\n\u001b[0;32m    887\u001b[0m       \u001b[0mnew_tracing_count\u001b[0m \u001b[1;33m=\u001b[0m \u001b[0mself\u001b[0m\u001b[1;33m.\u001b[0m\u001b[0mexperimental_get_tracing_count\u001b[0m\u001b[1;33m(\u001b[0m\u001b[1;33m)\u001b[0m\u001b[1;33m\u001b[0m\u001b[1;33m\u001b[0m\u001b[0m\n",
            "\u001b[1;32m~\\AppData\\Roaming\\Python\\Python38\\site-packages\\tensorflow\\python\\eager\\def_function.py\u001b[0m in \u001b[0;36m_call\u001b[1;34m(self, *args, **kwds)\u001b[0m\n\u001b[0;32m    915\u001b[0m       \u001b[1;31m# In this case we have created variables on the first call, so we run the\u001b[0m\u001b[1;33m\u001b[0m\u001b[1;33m\u001b[0m\u001b[1;33m\u001b[0m\u001b[0m\n\u001b[0;32m    916\u001b[0m       \u001b[1;31m# defunned version which is guaranteed to never create variables.\u001b[0m\u001b[1;33m\u001b[0m\u001b[1;33m\u001b[0m\u001b[1;33m\u001b[0m\u001b[0m\n\u001b[1;32m--> 917\u001b[1;33m       \u001b[1;32mreturn\u001b[0m \u001b[0mself\u001b[0m\u001b[1;33m.\u001b[0m\u001b[0m_stateless_fn\u001b[0m\u001b[1;33m(\u001b[0m\u001b[1;33m*\u001b[0m\u001b[0margs\u001b[0m\u001b[1;33m,\u001b[0m \u001b[1;33m**\u001b[0m\u001b[0mkwds\u001b[0m\u001b[1;33m)\u001b[0m  \u001b[1;31m# pylint: disable=not-callable\u001b[0m\u001b[1;33m\u001b[0m\u001b[1;33m\u001b[0m\u001b[0m\n\u001b[0m\u001b[0;32m    918\u001b[0m     \u001b[1;32melif\u001b[0m \u001b[0mself\u001b[0m\u001b[1;33m.\u001b[0m\u001b[0m_stateful_fn\u001b[0m \u001b[1;32mis\u001b[0m \u001b[1;32mnot\u001b[0m \u001b[1;32mNone\u001b[0m\u001b[1;33m:\u001b[0m\u001b[1;33m\u001b[0m\u001b[1;33m\u001b[0m\u001b[0m\n\u001b[0;32m    919\u001b[0m       \u001b[1;31m# Release the lock early so that multiple threads can perform the call\u001b[0m\u001b[1;33m\u001b[0m\u001b[1;33m\u001b[0m\u001b[1;33m\u001b[0m\u001b[0m\n",
            "\u001b[1;32m~\\AppData\\Roaming\\Python\\Python38\\site-packages\\tensorflow\\python\\eager\\function.py\u001b[0m in \u001b[0;36m__call__\u001b[1;34m(self, *args, **kwargs)\u001b[0m\n\u001b[0;32m   3037\u001b[0m       (graph_function,\n\u001b[0;32m   3038\u001b[0m        filtered_flat_args) = self._maybe_define_function(args, kwargs)\n\u001b[1;32m-> 3039\u001b[1;33m     return graph_function._call_flat(\n\u001b[0m\u001b[0;32m   3040\u001b[0m         filtered_flat_args, captured_inputs=graph_function.captured_inputs)  # pylint: disable=protected-access\n\u001b[0;32m   3041\u001b[0m \u001b[1;33m\u001b[0m\u001b[0m\n",
            "\u001b[1;32m~\\AppData\\Roaming\\Python\\Python38\\site-packages\\tensorflow\\python\\eager\\function.py\u001b[0m in \u001b[0;36m_call_flat\u001b[1;34m(self, args, captured_inputs, cancellation_manager)\u001b[0m\n\u001b[0;32m   1961\u001b[0m         and executing_eagerly):\n\u001b[0;32m   1962\u001b[0m       \u001b[1;31m# No tape is watching; skip to running the function.\u001b[0m\u001b[1;33m\u001b[0m\u001b[1;33m\u001b[0m\u001b[1;33m\u001b[0m\u001b[0m\n\u001b[1;32m-> 1963\u001b[1;33m       return self._build_call_outputs(self._inference_function.call(\n\u001b[0m\u001b[0;32m   1964\u001b[0m           ctx, args, cancellation_manager=cancellation_manager))\n\u001b[0;32m   1965\u001b[0m     forward_backward = self._select_forward_and_backward_functions(\n",
            "\u001b[1;32m~\\AppData\\Roaming\\Python\\Python38\\site-packages\\tensorflow\\python\\eager\\function.py\u001b[0m in \u001b[0;36mcall\u001b[1;34m(self, ctx, args, cancellation_manager)\u001b[0m\n\u001b[0;32m    589\u001b[0m       \u001b[1;32mwith\u001b[0m \u001b[0m_InterpolateFunctionError\u001b[0m\u001b[1;33m(\u001b[0m\u001b[0mself\u001b[0m\u001b[1;33m)\u001b[0m\u001b[1;33m:\u001b[0m\u001b[1;33m\u001b[0m\u001b[1;33m\u001b[0m\u001b[0m\n\u001b[0;32m    590\u001b[0m         \u001b[1;32mif\u001b[0m \u001b[0mcancellation_manager\u001b[0m \u001b[1;32mis\u001b[0m \u001b[1;32mNone\u001b[0m\u001b[1;33m:\u001b[0m\u001b[1;33m\u001b[0m\u001b[1;33m\u001b[0m\u001b[0m\n\u001b[1;32m--> 591\u001b[1;33m           outputs = execute.execute(\n\u001b[0m\u001b[0;32m    592\u001b[0m               \u001b[0mstr\u001b[0m\u001b[1;33m(\u001b[0m\u001b[0mself\u001b[0m\u001b[1;33m.\u001b[0m\u001b[0msignature\u001b[0m\u001b[1;33m.\u001b[0m\u001b[0mname\u001b[0m\u001b[1;33m)\u001b[0m\u001b[1;33m,\u001b[0m\u001b[1;33m\u001b[0m\u001b[1;33m\u001b[0m\u001b[0m\n\u001b[0;32m    593\u001b[0m               \u001b[0mnum_outputs\u001b[0m\u001b[1;33m=\u001b[0m\u001b[0mself\u001b[0m\u001b[1;33m.\u001b[0m\u001b[0m_num_outputs\u001b[0m\u001b[1;33m,\u001b[0m\u001b[1;33m\u001b[0m\u001b[1;33m\u001b[0m\u001b[0m\n",
            "\u001b[1;32m~\\AppData\\Roaming\\Python\\Python38\\site-packages\\tensorflow\\python\\eager\\execute.py\u001b[0m in \u001b[0;36mquick_execute\u001b[1;34m(op_name, num_outputs, inputs, attrs, ctx, name)\u001b[0m\n\u001b[0;32m     57\u001b[0m   \u001b[1;32mtry\u001b[0m\u001b[1;33m:\u001b[0m\u001b[1;33m\u001b[0m\u001b[1;33m\u001b[0m\u001b[0m\n\u001b[0;32m     58\u001b[0m     \u001b[0mctx\u001b[0m\u001b[1;33m.\u001b[0m\u001b[0mensure_initialized\u001b[0m\u001b[1;33m(\u001b[0m\u001b[1;33m)\u001b[0m\u001b[1;33m\u001b[0m\u001b[1;33m\u001b[0m\u001b[0m\n\u001b[1;32m---> 59\u001b[1;33m     tensors = pywrap_tfe.TFE_Py_Execute(ctx._handle, device_name, op_name,\n\u001b[0m\u001b[0;32m     60\u001b[0m                                         inputs, attrs, num_outputs)\n\u001b[0;32m     61\u001b[0m   \u001b[1;32mexcept\u001b[0m \u001b[0mcore\u001b[0m\u001b[1;33m.\u001b[0m\u001b[0m_NotOkStatusException\u001b[0m \u001b[1;32mas\u001b[0m \u001b[0me\u001b[0m\u001b[1;33m:\u001b[0m\u001b[1;33m\u001b[0m\u001b[1;33m\u001b[0m\u001b[0m\n",
            "\u001b[1;31mKeyboardInterrupt\u001b[0m: "
          ]
        }
      ],
      "metadata": {
        "id": "ciOGP8qApR0v",
        "colab": {
          "base_uri": "https://localhost:8080/"
        },
        "outputId": "e924b67e-8cbd-4f30-8216-c28828c5ed45"
      }
    },
    {
      "cell_type": "code",
      "execution_count": 9,
      "source": [
        "model.evaluate(x_test, y_test)"
      ],
      "outputs": [
        {
          "output_type": "error",
          "ename": "NameError",
          "evalue": "name 'model' is not defined",
          "traceback": [
            "\u001b[1;31m---------------------------------------------------------------------------\u001b[0m",
            "\u001b[1;31mNameError\u001b[0m                                 Traceback (most recent call last)",
            "\u001b[1;32m~\\AppData\\Local\\Temp/ipykernel_17620/4086525654.py\u001b[0m in \u001b[0;36m<module>\u001b[1;34m\u001b[0m\n\u001b[1;32m----> 1\u001b[1;33m \u001b[0mmodel\u001b[0m\u001b[1;33m.\u001b[0m\u001b[0mevaluate\u001b[0m\u001b[1;33m(\u001b[0m\u001b[0mx_test\u001b[0m\u001b[1;33m,\u001b[0m \u001b[0my_test\u001b[0m\u001b[1;33m)\u001b[0m\u001b[1;33m\u001b[0m\u001b[1;33m\u001b[0m\u001b[0m\n\u001b[0m",
            "\u001b[1;31mNameError\u001b[0m: name 'model' is not defined"
          ]
        }
      ],
      "metadata": {
        "id": "W-pj69VUpR0v",
        "colab": {
          "base_uri": "https://localhost:8080/",
          "height": 163
        },
        "outputId": "d2552b03-f37a-403a-ad44-0f24f4a3a9e8"
      }
    },
    {
      "cell_type": "code",
      "execution_count": 15,
      "source": [
        "def plot_conv_weights(model, layer):\r\n",
        "    W = model.get_layer(name=layer).get_weights()[0]\r\n",
        "    if len(W.shape) == 4:\r\n",
        "        W = np.squeeze(W)\r\n",
        "        print(W.shape)\r\n",
        "        if len(W.shape) == 4:\r\n",
        "            W = W.reshape(W.shape[0], W.shape[1], W.shape[2] * W.shape[3]) \r\n",
        "        else:\r\n",
        "            W = W.reshape(W.shape[0], W.shape[1], W.shape[2]) \r\n",
        "        fig, axs = plt.subplots(1,15, figsize=(30,30))\r\n",
        "        # fig.subplots_adjust(hspace = .5, wspace=.001)\r\n",
        "        axs = axs.ravel()\r\n",
        "        for i in range(15):\r\n",
        "            axs[i].imshow(W[:,:,i], cmap='Greys_r')\r\n",
        "            axs[i].set_title(str(i))\r\n",
        "\r\n",
        "for layer in model.layers:\r\n",
        "    if 'conv' not in layer.name:\r\n",
        "        continue\r\n",
        "    else:\r\n",
        "        plot_conv_weights(model, layer.name)"
      ],
      "outputs": [
        {
          "output_type": "stream",
          "name": "stdout",
          "text": [
            "(7, 7, 3, 128)\n",
            "(5, 5, 128, 128)\n",
            "(3, 3, 128, 128)\n"
          ]
        },
        {
          "output_type": "display_data",
          "data": {
            "text/plain": [
              "<Figure size 2160x2160 with 15 Axes>"
            ],
            "image/png": "[encoded data removed]"
          },
          "metadata": {}
        },
        {
          "output_type": "display_data",
          "data": {
            "text/plain": [
              "<Figure size 2160x2160 with 15 Axes>"
            ],
            "image/png": "[encoded data removed]"
          },
          "metadata": {}
        },
        {
          "output_type": "display_data",
          "data": {
            "text/plain": [
              "<Figure size 2160x2160 with 15 Axes>"
            ],
            "image/png": "[encoded data removed]"
          },
          "metadata": {}
        }
      ],
      "metadata": {
        "id": "D24p-f95pR0v",
        "colab": {
          "base_uri": "https://localhost:8080/",
          "height": 1000
        },
        "outputId": "d7c5faf9-56bd-4a70-e12c-295db69aa882"
      }
    },
    {
      "cell_type": "code",
      "execution_count": 16,
      "source": [
        "acc = model_train['accuracy']\r\n",
        "val_acc = model_train['val_accuracy']\r\n",
        "loss = model_train['loss']\r\n",
        "val_loss = model_train['val_loss']\r\n",
        "epoch_count = range(len(acc))\r\n",
        "\r\n",
        "plt.plot(epoch_count, acc, 'b', label='Train acc')\r\n",
        "plt.plot(epoch_count, val_acc, 'g', label='Val acc')\r\n",
        "plt.title('ACCURACY')\r\n",
        "plt.legend()\r\n",
        "plt.figure()\r\n",
        "\r\n",
        "plt.plot(epoch_count, loss, 'b', label='Train loss')\r\n",
        "plt.plot(epoch_count, val_loss, 'g', label='Val loss')\r\n",
        "plt.title('LOSS')\r\n",
        "plt.legend()\r\n",
        "plt.figure()\r\n",
        "\r\n",
        "plt.show()"
      ],
      "outputs": [
        {
          "output_type": "display_data",
          "data": {
            "text/plain": [
              "<Figure size 432x288 with 1 Axes>"
            ],
            "image/png": "[encoded data removed]"
          },
          "metadata": {}
        },
        {
          "output_type": "display_data",
          "data": {
            "text/plain": [
              "<Figure size 432x288 with 1 Axes>"
            ],
            "image/png": "[encoded data removed]"
          },
          "metadata": {}
        },
        {
          "output_type": "display_data",
          "data": {
            "text/plain": [
              "<Figure size 432x288 with 0 Axes>"
            ]
          },
          "metadata": {}
        }
      ],
      "metadata": {
        "id": "nA-NA9PgpR0w",
        "colab": {
          "base_uri": "https://localhost:8080/",
          "height": 562
        },
        "outputId": "19a93215-494e-4841-99ca-c1cfeb71f319"
      }
    }
  ]
}